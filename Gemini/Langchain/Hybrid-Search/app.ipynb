{
 "cells": [
  {
   "cell_type": "code",
   "execution_count": 1,
   "metadata": {},
   "outputs": [
    {
     "name": "stdout",
     "output_type": "stream",
     "text": [
      "Requirement already satisfied: pinecone-client in /home/ayush/Code/ML-Projects/Gemini/Langchain/env/lib/python3.12/site-packages (5.0.1)\n",
      "Requirement already satisfied: pinecone-text in /home/ayush/Code/ML-Projects/Gemini/Langchain/env/lib/python3.12/site-packages (0.9.0)\n",
      "Requirement already satisfied: pinecone-notebooks in /home/ayush/Code/ML-Projects/Gemini/Langchain/env/lib/python3.12/site-packages (0.1.1)\n",
      "Requirement already satisfied: certifi>=2019.11.17 in /home/ayush/Code/ML-Projects/Gemini/Langchain/env/lib/python3.12/site-packages (from pinecone-client) (2024.8.30)\n",
      "Requirement already satisfied: pinecone-plugin-inference<2.0.0,>=1.0.3 in /home/ayush/Code/ML-Projects/Gemini/Langchain/env/lib/python3.12/site-packages (from pinecone-client) (1.1.0)\n",
      "Requirement already satisfied: pinecone-plugin-interface<0.0.8,>=0.0.7 in /home/ayush/Code/ML-Projects/Gemini/Langchain/env/lib/python3.12/site-packages (from pinecone-client) (0.0.7)\n",
      "Requirement already satisfied: tqdm>=4.64.1 in /home/ayush/Code/ML-Projects/Gemini/Langchain/env/lib/python3.12/site-packages (from pinecone-client) (4.66.5)\n",
      "Requirement already satisfied: typing-extensions>=3.7.4 in /home/ayush/Code/ML-Projects/Gemini/Langchain/env/lib/python3.12/site-packages (from pinecone-client) (4.12.2)\n",
      "Requirement already satisfied: urllib3>=1.26.5 in /home/ayush/Code/ML-Projects/Gemini/Langchain/env/lib/python3.12/site-packages (from pinecone-client) (2.2.3)\n",
      "Requirement already satisfied: mmh3<5.0.0,>=4.1.0 in /home/ayush/Code/ML-Projects/Gemini/Langchain/env/lib/python3.12/site-packages (from pinecone-text) (4.1.0)\n",
      "Requirement already satisfied: nltk<4.0.0,>=3.6.5 in /home/ayush/Code/ML-Projects/Gemini/Langchain/env/lib/python3.12/site-packages (from pinecone-text) (3.9.1)\n",
      "Requirement already satisfied: numpy<2.0,>=1.26 in /home/ayush/Code/ML-Projects/Gemini/Langchain/env/lib/python3.12/site-packages (from pinecone-text) (1.26.4)\n",
      "Requirement already satisfied: python-dotenv<2.0.0,>=1.0.1 in /home/ayush/Code/ML-Projects/Gemini/Langchain/env/lib/python3.12/site-packages (from pinecone-text) (1.0.1)\n",
      "Requirement already satisfied: requests<3.0.0,>=2.25.0 in /home/ayush/Code/ML-Projects/Gemini/Langchain/env/lib/python3.12/site-packages (from pinecone-text) (2.32.3)\n",
      "Requirement already satisfied: types-requests<3.0.0,>=2.25.0 in /home/ayush/Code/ML-Projects/Gemini/Langchain/env/lib/python3.12/site-packages (from pinecone-text) (2.32.0.20240914)\n",
      "Requirement already satisfied: wget<4.0,>=3.2 in /home/ayush/Code/ML-Projects/Gemini/Langchain/env/lib/python3.12/site-packages (from pinecone-text) (3.2)\n",
      "Requirement already satisfied: click in /home/ayush/Code/ML-Projects/Gemini/Langchain/env/lib/python3.12/site-packages (from nltk<4.0.0,>=3.6.5->pinecone-text) (8.1.7)\n",
      "Requirement already satisfied: joblib in /home/ayush/Code/ML-Projects/Gemini/Langchain/env/lib/python3.12/site-packages (from nltk<4.0.0,>=3.6.5->pinecone-text) (1.4.2)\n",
      "Requirement already satisfied: regex>=2021.8.3 in /home/ayush/Code/ML-Projects/Gemini/Langchain/env/lib/python3.12/site-packages (from nltk<4.0.0,>=3.6.5->pinecone-text) (2024.9.11)\n",
      "Requirement already satisfied: charset-normalizer<4,>=2 in /home/ayush/Code/ML-Projects/Gemini/Langchain/env/lib/python3.12/site-packages (from requests<3.0.0,>=2.25.0->pinecone-text) (3.3.2)\n",
      "Requirement already satisfied: idna<4,>=2.5 in /home/ayush/Code/ML-Projects/Gemini/Langchain/env/lib/python3.12/site-packages (from requests<3.0.0,>=2.25.0->pinecone-text) (3.10)\n",
      "Note: you may need to restart the kernel to use updated packages.\n"
     ]
    }
   ],
   "source": [
    "%pip install --upgrade pinecone-client pinecone-text pinecone-notebooks"
   ]
  },
  {
   "cell_type": "code",
   "execution_count": 7,
   "metadata": {},
   "outputs": [
    {
     "name": "stdout",
     "output_type": "stream",
     "text": [
      "Requirement already satisfied: langchain_huggingface in /home/ayush/Code/ML-Projects/Gemini/Langchain/env/lib/python3.12/site-packages (0.1.0)\n",
      "Requirement already satisfied: pydantic in /home/ayush/Code/ML-Projects/Gemini/Langchain/env/lib/python3.12/site-packages (2.9.2)\n",
      "Requirement already satisfied: transformers in /home/ayush/Code/ML-Projects/Gemini/Langchain/env/lib/python3.12/site-packages (4.44.2)\n",
      "Requirement already satisfied: huggingface-hub>=0.23.0 in /home/ayush/Code/ML-Projects/Gemini/Langchain/env/lib/python3.12/site-packages (from langchain_huggingface) (0.25.0)\n",
      "Collecting langchain-core<0.4,>=0.3.0 (from langchain_huggingface)\n",
      "  Downloading langchain_core-0.3.8-py3-none-any.whl.metadata (6.3 kB)\n",
      "Requirement already satisfied: sentence-transformers>=2.6.0 in /home/ayush/Code/ML-Projects/Gemini/Langchain/env/lib/python3.12/site-packages (from langchain_huggingface) (3.1.1)\n",
      "Requirement already satisfied: tokenizers>=0.19.1 in /home/ayush/Code/ML-Projects/Gemini/Langchain/env/lib/python3.12/site-packages (from langchain_huggingface) (0.19.1)\n",
      "Requirement already satisfied: annotated-types>=0.6.0 in /home/ayush/Code/ML-Projects/Gemini/Langchain/env/lib/python3.12/site-packages (from pydantic) (0.7.0)\n",
      "Requirement already satisfied: pydantic-core==2.23.4 in /home/ayush/Code/ML-Projects/Gemini/Langchain/env/lib/python3.12/site-packages (from pydantic) (2.23.4)\n",
      "Requirement already satisfied: typing-extensions>=4.6.1 in /home/ayush/Code/ML-Projects/Gemini/Langchain/env/lib/python3.12/site-packages (from pydantic) (4.12.2)\n",
      "Requirement already satisfied: filelock in /home/ayush/Code/ML-Projects/Gemini/Langchain/env/lib/python3.12/site-packages (from transformers) (3.16.1)\n",
      "Requirement already satisfied: numpy>=1.17 in /home/ayush/Code/ML-Projects/Gemini/Langchain/env/lib/python3.12/site-packages (from transformers) (1.26.4)\n",
      "Requirement already satisfied: packaging>=20.0 in /home/ayush/Code/ML-Projects/Gemini/Langchain/env/lib/python3.12/site-packages (from transformers) (24.1)\n",
      "Requirement already satisfied: pyyaml>=5.1 in /home/ayush/Code/ML-Projects/Gemini/Langchain/env/lib/python3.12/site-packages (from transformers) (6.0.2)\n",
      "Requirement already satisfied: regex!=2019.12.17 in /home/ayush/Code/ML-Projects/Gemini/Langchain/env/lib/python3.12/site-packages (from transformers) (2024.9.11)\n",
      "Requirement already satisfied: requests in /home/ayush/Code/ML-Projects/Gemini/Langchain/env/lib/python3.12/site-packages (from transformers) (2.32.3)\n",
      "Requirement already satisfied: safetensors>=0.4.1 in /home/ayush/Code/ML-Projects/Gemini/Langchain/env/lib/python3.12/site-packages (from transformers) (0.4.5)\n",
      "Requirement already satisfied: tqdm>=4.27 in /home/ayush/Code/ML-Projects/Gemini/Langchain/env/lib/python3.12/site-packages (from transformers) (4.66.5)\n",
      "Requirement already satisfied: fsspec>=2023.5.0 in /home/ayush/Code/ML-Projects/Gemini/Langchain/env/lib/python3.12/site-packages (from huggingface-hub>=0.23.0->langchain_huggingface) (2024.9.0)\n",
      "Requirement already satisfied: jsonpatch<2.0,>=1.33 in /home/ayush/Code/ML-Projects/Gemini/Langchain/env/lib/python3.12/site-packages (from langchain-core<0.4,>=0.3.0->langchain_huggingface) (1.33)\n",
      "Requirement already satisfied: langsmith<0.2.0,>=0.1.125 in /home/ayush/Code/ML-Projects/Gemini/Langchain/env/lib/python3.12/site-packages (from langchain-core<0.4,>=0.3.0->langchain_huggingface) (0.1.125)\n",
      "Requirement already satisfied: tenacity!=8.4.0,<9.0.0,>=8.1.0 in /home/ayush/Code/ML-Projects/Gemini/Langchain/env/lib/python3.12/site-packages (from langchain-core<0.4,>=0.3.0->langchain_huggingface) (8.5.0)\n",
      "Requirement already satisfied: torch>=1.11.0 in /home/ayush/Code/ML-Projects/Gemini/Langchain/env/lib/python3.12/site-packages (from sentence-transformers>=2.6.0->langchain_huggingface) (2.4.1)\n",
      "Requirement already satisfied: scikit-learn in /home/ayush/Code/ML-Projects/Gemini/Langchain/env/lib/python3.12/site-packages (from sentence-transformers>=2.6.0->langchain_huggingface) (1.5.2)\n",
      "Requirement already satisfied: scipy in /home/ayush/Code/ML-Projects/Gemini/Langchain/env/lib/python3.12/site-packages (from sentence-transformers>=2.6.0->langchain_huggingface) (1.14.1)\n",
      "Requirement already satisfied: Pillow in /home/ayush/Code/ML-Projects/Gemini/Langchain/env/lib/python3.12/site-packages (from sentence-transformers>=2.6.0->langchain_huggingface) (10.4.0)\n",
      "Requirement already satisfied: charset-normalizer<4,>=2 in /home/ayush/Code/ML-Projects/Gemini/Langchain/env/lib/python3.12/site-packages (from requests->transformers) (3.3.2)\n",
      "Requirement already satisfied: idna<4,>=2.5 in /home/ayush/Code/ML-Projects/Gemini/Langchain/env/lib/python3.12/site-packages (from requests->transformers) (3.10)\n",
      "Requirement already satisfied: urllib3<3,>=1.21.1 in /home/ayush/Code/ML-Projects/Gemini/Langchain/env/lib/python3.12/site-packages (from requests->transformers) (2.2.3)\n",
      "Requirement already satisfied: certifi>=2017.4.17 in /home/ayush/Code/ML-Projects/Gemini/Langchain/env/lib/python3.12/site-packages (from requests->transformers) (2024.8.30)\n",
      "Requirement already satisfied: jsonpointer>=1.9 in /home/ayush/Code/ML-Projects/Gemini/Langchain/env/lib/python3.12/site-packages (from jsonpatch<2.0,>=1.33->langchain-core<0.4,>=0.3.0->langchain_huggingface) (3.0.0)\n",
      "Requirement already satisfied: httpx<1,>=0.23.0 in /home/ayush/Code/ML-Projects/Gemini/Langchain/env/lib/python3.12/site-packages (from langsmith<0.2.0,>=0.1.125->langchain-core<0.4,>=0.3.0->langchain_huggingface) (0.27.2)\n",
      "Requirement already satisfied: orjson<4.0.0,>=3.9.14 in /home/ayush/Code/ML-Projects/Gemini/Langchain/env/lib/python3.12/site-packages (from langsmith<0.2.0,>=0.1.125->langchain-core<0.4,>=0.3.0->langchain_huggingface) (3.10.7)\n",
      "Requirement already satisfied: sympy in /home/ayush/Code/ML-Projects/Gemini/Langchain/env/lib/python3.12/site-packages (from torch>=1.11.0->sentence-transformers>=2.6.0->langchain_huggingface) (1.13.3)\n",
      "Requirement already satisfied: networkx in /home/ayush/Code/ML-Projects/Gemini/Langchain/env/lib/python3.12/site-packages (from torch>=1.11.0->sentence-transformers>=2.6.0->langchain_huggingface) (3.3)\n",
      "Requirement already satisfied: jinja2 in /home/ayush/Code/ML-Projects/Gemini/Langchain/env/lib/python3.12/site-packages (from torch>=1.11.0->sentence-transformers>=2.6.0->langchain_huggingface) (3.1.4)\n",
      "Requirement already satisfied: setuptools in /home/ayush/Code/ML-Projects/Gemini/Langchain/env/lib/python3.12/site-packages (from torch>=1.11.0->sentence-transformers>=2.6.0->langchain_huggingface) (75.1.0)\n",
      "Requirement already satisfied: nvidia-cuda-nvrtc-cu12==12.1.105 in /home/ayush/Code/ML-Projects/Gemini/Langchain/env/lib/python3.12/site-packages (from torch>=1.11.0->sentence-transformers>=2.6.0->langchain_huggingface) (12.1.105)\n",
      "Requirement already satisfied: nvidia-cuda-runtime-cu12==12.1.105 in /home/ayush/Code/ML-Projects/Gemini/Langchain/env/lib/python3.12/site-packages (from torch>=1.11.0->sentence-transformers>=2.6.0->langchain_huggingface) (12.1.105)\n",
      "Requirement already satisfied: nvidia-cuda-cupti-cu12==12.1.105 in /home/ayush/Code/ML-Projects/Gemini/Langchain/env/lib/python3.12/site-packages (from torch>=1.11.0->sentence-transformers>=2.6.0->langchain_huggingface) (12.1.105)\n",
      "Requirement already satisfied: nvidia-cudnn-cu12==9.1.0.70 in /home/ayush/Code/ML-Projects/Gemini/Langchain/env/lib/python3.12/site-packages (from torch>=1.11.0->sentence-transformers>=2.6.0->langchain_huggingface) (9.1.0.70)\n",
      "Requirement already satisfied: nvidia-cublas-cu12==12.1.3.1 in /home/ayush/Code/ML-Projects/Gemini/Langchain/env/lib/python3.12/site-packages (from torch>=1.11.0->sentence-transformers>=2.6.0->langchain_huggingface) (12.1.3.1)\n",
      "Requirement already satisfied: nvidia-cufft-cu12==11.0.2.54 in /home/ayush/Code/ML-Projects/Gemini/Langchain/env/lib/python3.12/site-packages (from torch>=1.11.0->sentence-transformers>=2.6.0->langchain_huggingface) (11.0.2.54)\n",
      "Requirement already satisfied: nvidia-curand-cu12==10.3.2.106 in /home/ayush/Code/ML-Projects/Gemini/Langchain/env/lib/python3.12/site-packages (from torch>=1.11.0->sentence-transformers>=2.6.0->langchain_huggingface) (10.3.2.106)\n",
      "Requirement already satisfied: nvidia-cusolver-cu12==11.4.5.107 in /home/ayush/Code/ML-Projects/Gemini/Langchain/env/lib/python3.12/site-packages (from torch>=1.11.0->sentence-transformers>=2.6.0->langchain_huggingface) (11.4.5.107)\n",
      "Requirement already satisfied: nvidia-cusparse-cu12==12.1.0.106 in /home/ayush/Code/ML-Projects/Gemini/Langchain/env/lib/python3.12/site-packages (from torch>=1.11.0->sentence-transformers>=2.6.0->langchain_huggingface) (12.1.0.106)\n",
      "Requirement already satisfied: nvidia-nccl-cu12==2.20.5 in /home/ayush/Code/ML-Projects/Gemini/Langchain/env/lib/python3.12/site-packages (from torch>=1.11.0->sentence-transformers>=2.6.0->langchain_huggingface) (2.20.5)\n",
      "Requirement already satisfied: nvidia-nvtx-cu12==12.1.105 in /home/ayush/Code/ML-Projects/Gemini/Langchain/env/lib/python3.12/site-packages (from torch>=1.11.0->sentence-transformers>=2.6.0->langchain_huggingface) (12.1.105)\n",
      "Requirement already satisfied: triton==3.0.0 in /home/ayush/Code/ML-Projects/Gemini/Langchain/env/lib/python3.12/site-packages (from torch>=1.11.0->sentence-transformers>=2.6.0->langchain_huggingface) (3.0.0)\n",
      "Requirement already satisfied: nvidia-nvjitlink-cu12 in /home/ayush/Code/ML-Projects/Gemini/Langchain/env/lib/python3.12/site-packages (from nvidia-cusolver-cu12==11.4.5.107->torch>=1.11.0->sentence-transformers>=2.6.0->langchain_huggingface) (12.6.68)\n",
      "Requirement already satisfied: joblib>=1.2.0 in /home/ayush/Code/ML-Projects/Gemini/Langchain/env/lib/python3.12/site-packages (from scikit-learn->sentence-transformers>=2.6.0->langchain_huggingface) (1.4.2)\n",
      "Requirement already satisfied: threadpoolctl>=3.1.0 in /home/ayush/Code/ML-Projects/Gemini/Langchain/env/lib/python3.12/site-packages (from scikit-learn->sentence-transformers>=2.6.0->langchain_huggingface) (3.5.0)\n",
      "Requirement already satisfied: anyio in /home/ayush/Code/ML-Projects/Gemini/Langchain/env/lib/python3.12/site-packages (from httpx<1,>=0.23.0->langsmith<0.2.0,>=0.1.125->langchain-core<0.4,>=0.3.0->langchain_huggingface) (4.6.0)\n",
      "Requirement already satisfied: httpcore==1.* in /home/ayush/Code/ML-Projects/Gemini/Langchain/env/lib/python3.12/site-packages (from httpx<1,>=0.23.0->langsmith<0.2.0,>=0.1.125->langchain-core<0.4,>=0.3.0->langchain_huggingface) (1.0.5)\n",
      "Requirement already satisfied: sniffio in /home/ayush/Code/ML-Projects/Gemini/Langchain/env/lib/python3.12/site-packages (from httpx<1,>=0.23.0->langsmith<0.2.0,>=0.1.125->langchain-core<0.4,>=0.3.0->langchain_huggingface) (1.3.1)\n",
      "Requirement already satisfied: h11<0.15,>=0.13 in /home/ayush/Code/ML-Projects/Gemini/Langchain/env/lib/python3.12/site-packages (from httpcore==1.*->httpx<1,>=0.23.0->langsmith<0.2.0,>=0.1.125->langchain-core<0.4,>=0.3.0->langchain_huggingface) (0.14.0)\n",
      "Requirement already satisfied: MarkupSafe>=2.0 in /home/ayush/Code/ML-Projects/Gemini/Langchain/env/lib/python3.12/site-packages (from jinja2->torch>=1.11.0->sentence-transformers>=2.6.0->langchain_huggingface) (2.1.5)\n",
      "Requirement already satisfied: mpmath<1.4,>=1.1.0 in /home/ayush/Code/ML-Projects/Gemini/Langchain/env/lib/python3.12/site-packages (from sympy->torch>=1.11.0->sentence-transformers>=2.6.0->langchain_huggingface) (1.3.0)\n",
      "Downloading langchain_core-0.3.8-py3-none-any.whl (400 kB)\n",
      "Installing collected packages: langchain-core\n",
      "  Attempting uninstall: langchain-core\n",
      "    Found existing installation: langchain-core 0.2.41\n",
      "    Uninstalling langchain-core-0.2.41:\n",
      "      Successfully uninstalled langchain-core-0.2.41\n",
      "\u001b[31mERROR: pip's dependency resolver does not currently take into account all the packages that are installed. This behaviour is the source of the following dependency conflicts.\n",
      "langchain-experimental 0.0.65 requires langchain-core<0.3.0,>=0.2.38, but you have langchain-core 0.3.8 which is incompatible.\n",
      "langchain-openai 0.1.25 requires langchain-core<0.3.0,>=0.2.40, but you have langchain-core 0.3.8 which is incompatible.\n",
      "langchain-cohere 0.1.9 requires langchain-core<0.3,>=0.2.2, but you have langchain-core 0.3.8 which is incompatible.\n",
      "langchain 0.2.16 requires langchain-core<0.3.0,>=0.2.38, but you have langchain-core 0.3.8 which is incompatible.\n",
      "langchain-community 0.2.17 requires langchain-core<0.3.0,>=0.2.39, but you have langchain-core 0.3.8 which is incompatible.\n",
      "langchain-text-splitters 0.2.4 requires langchain-core<0.3.0,>=0.2.38, but you have langchain-core 0.3.8 which is incompatible.\u001b[0m\u001b[31m\n",
      "\u001b[0mSuccessfully installed langchain-core-0.3.8\n",
      "Note: you may need to restart the kernel to use updated packages.\n"
     ]
    }
   ],
   "source": [
    "%pip install langchain_huggingface pydantic transformers"
   ]
  },
  {
   "cell_type": "code",
   "execution_count": 8,
   "metadata": {},
   "outputs": [
    {
     "name": "stdout",
     "output_type": "stream",
     "text": [
      "Requirement already satisfied: langchain in /home/ayush/Code/ML-Projects/Gemini/Langchain/env/lib/python3.12/site-packages (0.2.16)\n",
      "Collecting langchain\n",
      "  Downloading langchain-0.3.2-py3-none-any.whl.metadata (7.1 kB)\n",
      "Requirement already satisfied: langchain_huggingface in /home/ayush/Code/ML-Projects/Gemini/Langchain/env/lib/python3.12/site-packages (0.1.0)\n",
      "Requirement already satisfied: pydantic in /home/ayush/Code/ML-Projects/Gemini/Langchain/env/lib/python3.12/site-packages (2.9.2)\n",
      "Requirement already satisfied: PyYAML>=5.3 in /home/ayush/Code/ML-Projects/Gemini/Langchain/env/lib/python3.12/site-packages (from langchain) (6.0.2)\n",
      "Requirement already satisfied: SQLAlchemy<3,>=1.4 in /home/ayush/Code/ML-Projects/Gemini/Langchain/env/lib/python3.12/site-packages (from langchain) (2.0.35)\n",
      "Requirement already satisfied: aiohttp<4.0.0,>=3.8.3 in /home/ayush/Code/ML-Projects/Gemini/Langchain/env/lib/python3.12/site-packages (from langchain) (3.10.5)\n",
      "Requirement already satisfied: langchain-core<0.4.0,>=0.3.8 in /home/ayush/Code/ML-Projects/Gemini/Langchain/env/lib/python3.12/site-packages (from langchain) (0.3.8)\n",
      "Collecting langchain-text-splitters<0.4.0,>=0.3.0 (from langchain)\n",
      "  Using cached langchain_text_splitters-0.3.0-py3-none-any.whl.metadata (2.3 kB)\n",
      "Requirement already satisfied: langsmith<0.2.0,>=0.1.17 in /home/ayush/Code/ML-Projects/Gemini/Langchain/env/lib/python3.12/site-packages (from langchain) (0.1.125)\n",
      "Requirement already satisfied: numpy<2.0.0,>=1.26.0 in /home/ayush/Code/ML-Projects/Gemini/Langchain/env/lib/python3.12/site-packages (from langchain) (1.26.4)\n",
      "Requirement already satisfied: requests<3,>=2 in /home/ayush/Code/ML-Projects/Gemini/Langchain/env/lib/python3.12/site-packages (from langchain) (2.32.3)\n",
      "Requirement already satisfied: tenacity!=8.4.0,<9.0.0,>=8.1.0 in /home/ayush/Code/ML-Projects/Gemini/Langchain/env/lib/python3.12/site-packages (from langchain) (8.5.0)\n",
      "Requirement already satisfied: huggingface-hub>=0.23.0 in /home/ayush/Code/ML-Projects/Gemini/Langchain/env/lib/python3.12/site-packages (from langchain_huggingface) (0.25.0)\n",
      "Requirement already satisfied: sentence-transformers>=2.6.0 in /home/ayush/Code/ML-Projects/Gemini/Langchain/env/lib/python3.12/site-packages (from langchain_huggingface) (3.1.1)\n",
      "Requirement already satisfied: tokenizers>=0.19.1 in /home/ayush/Code/ML-Projects/Gemini/Langchain/env/lib/python3.12/site-packages (from langchain_huggingface) (0.19.1)\n",
      "Requirement already satisfied: transformers>=4.39.0 in /home/ayush/Code/ML-Projects/Gemini/Langchain/env/lib/python3.12/site-packages (from langchain_huggingface) (4.44.2)\n",
      "Requirement already satisfied: annotated-types>=0.6.0 in /home/ayush/Code/ML-Projects/Gemini/Langchain/env/lib/python3.12/site-packages (from pydantic) (0.7.0)\n",
      "Requirement already satisfied: pydantic-core==2.23.4 in /home/ayush/Code/ML-Projects/Gemini/Langchain/env/lib/python3.12/site-packages (from pydantic) (2.23.4)\n",
      "Requirement already satisfied: typing-extensions>=4.6.1 in /home/ayush/Code/ML-Projects/Gemini/Langchain/env/lib/python3.12/site-packages (from pydantic) (4.12.2)\n",
      "Requirement already satisfied: aiohappyeyeballs>=2.3.0 in /home/ayush/Code/ML-Projects/Gemini/Langchain/env/lib/python3.12/site-packages (from aiohttp<4.0.0,>=3.8.3->langchain) (2.4.0)\n",
      "Requirement already satisfied: aiosignal>=1.1.2 in /home/ayush/Code/ML-Projects/Gemini/Langchain/env/lib/python3.12/site-packages (from aiohttp<4.0.0,>=3.8.3->langchain) (1.3.1)\n",
      "Requirement already satisfied: attrs>=17.3.0 in /home/ayush/Code/ML-Projects/Gemini/Langchain/env/lib/python3.12/site-packages (from aiohttp<4.0.0,>=3.8.3->langchain) (23.2.0)\n",
      "Requirement already satisfied: frozenlist>=1.1.1 in /home/ayush/Code/ML-Projects/Gemini/Langchain/env/lib/python3.12/site-packages (from aiohttp<4.0.0,>=3.8.3->langchain) (1.4.1)\n",
      "Requirement already satisfied: multidict<7.0,>=4.5 in /home/ayush/Code/ML-Projects/Gemini/Langchain/env/lib/python3.12/site-packages (from aiohttp<4.0.0,>=3.8.3->langchain) (6.1.0)\n",
      "Requirement already satisfied: yarl<2.0,>=1.0 in /home/ayush/Code/ML-Projects/Gemini/Langchain/env/lib/python3.12/site-packages (from aiohttp<4.0.0,>=3.8.3->langchain) (1.11.1)\n",
      "Requirement already satisfied: filelock in /home/ayush/Code/ML-Projects/Gemini/Langchain/env/lib/python3.12/site-packages (from huggingface-hub>=0.23.0->langchain_huggingface) (3.16.1)\n",
      "Requirement already satisfied: fsspec>=2023.5.0 in /home/ayush/Code/ML-Projects/Gemini/Langchain/env/lib/python3.12/site-packages (from huggingface-hub>=0.23.0->langchain_huggingface) (2024.9.0)\n",
      "Requirement already satisfied: packaging>=20.9 in /home/ayush/Code/ML-Projects/Gemini/Langchain/env/lib/python3.12/site-packages (from huggingface-hub>=0.23.0->langchain_huggingface) (24.1)\n",
      "Requirement already satisfied: tqdm>=4.42.1 in /home/ayush/Code/ML-Projects/Gemini/Langchain/env/lib/python3.12/site-packages (from huggingface-hub>=0.23.0->langchain_huggingface) (4.66.5)\n",
      "Requirement already satisfied: jsonpatch<2.0,>=1.33 in /home/ayush/Code/ML-Projects/Gemini/Langchain/env/lib/python3.12/site-packages (from langchain-core<0.4.0,>=0.3.8->langchain) (1.33)\n",
      "Requirement already satisfied: httpx<1,>=0.23.0 in /home/ayush/Code/ML-Projects/Gemini/Langchain/env/lib/python3.12/site-packages (from langsmith<0.2.0,>=0.1.17->langchain) (0.27.2)\n",
      "Requirement already satisfied: orjson<4.0.0,>=3.9.14 in /home/ayush/Code/ML-Projects/Gemini/Langchain/env/lib/python3.12/site-packages (from langsmith<0.2.0,>=0.1.17->langchain) (3.10.7)\n",
      "Requirement already satisfied: charset-normalizer<4,>=2 in /home/ayush/Code/ML-Projects/Gemini/Langchain/env/lib/python3.12/site-packages (from requests<3,>=2->langchain) (3.3.2)\n",
      "Requirement already satisfied: idna<4,>=2.5 in /home/ayush/Code/ML-Projects/Gemini/Langchain/env/lib/python3.12/site-packages (from requests<3,>=2->langchain) (3.10)\n",
      "Requirement already satisfied: urllib3<3,>=1.21.1 in /home/ayush/Code/ML-Projects/Gemini/Langchain/env/lib/python3.12/site-packages (from requests<3,>=2->langchain) (2.2.3)\n",
      "Requirement already satisfied: certifi>=2017.4.17 in /home/ayush/Code/ML-Projects/Gemini/Langchain/env/lib/python3.12/site-packages (from requests<3,>=2->langchain) (2024.8.30)\n",
      "Requirement already satisfied: torch>=1.11.0 in /home/ayush/Code/ML-Projects/Gemini/Langchain/env/lib/python3.12/site-packages (from sentence-transformers>=2.6.0->langchain_huggingface) (2.4.1)\n",
      "Requirement already satisfied: scikit-learn in /home/ayush/Code/ML-Projects/Gemini/Langchain/env/lib/python3.12/site-packages (from sentence-transformers>=2.6.0->langchain_huggingface) (1.5.2)\n",
      "Requirement already satisfied: scipy in /home/ayush/Code/ML-Projects/Gemini/Langchain/env/lib/python3.12/site-packages (from sentence-transformers>=2.6.0->langchain_huggingface) (1.14.1)\n",
      "Requirement already satisfied: Pillow in /home/ayush/Code/ML-Projects/Gemini/Langchain/env/lib/python3.12/site-packages (from sentence-transformers>=2.6.0->langchain_huggingface) (10.4.0)\n",
      "Requirement already satisfied: greenlet!=0.4.17 in /home/ayush/Code/ML-Projects/Gemini/Langchain/env/lib/python3.12/site-packages (from SQLAlchemy<3,>=1.4->langchain) (3.1.1)\n",
      "Requirement already satisfied: regex!=2019.12.17 in /home/ayush/Code/ML-Projects/Gemini/Langchain/env/lib/python3.12/site-packages (from transformers>=4.39.0->langchain_huggingface) (2024.9.11)\n",
      "Requirement already satisfied: safetensors>=0.4.1 in /home/ayush/Code/ML-Projects/Gemini/Langchain/env/lib/python3.12/site-packages (from transformers>=4.39.0->langchain_huggingface) (0.4.5)\n",
      "Requirement already satisfied: anyio in /home/ayush/Code/ML-Projects/Gemini/Langchain/env/lib/python3.12/site-packages (from httpx<1,>=0.23.0->langsmith<0.2.0,>=0.1.17->langchain) (4.6.0)\n",
      "Requirement already satisfied: httpcore==1.* in /home/ayush/Code/ML-Projects/Gemini/Langchain/env/lib/python3.12/site-packages (from httpx<1,>=0.23.0->langsmith<0.2.0,>=0.1.17->langchain) (1.0.5)\n",
      "Requirement already satisfied: sniffio in /home/ayush/Code/ML-Projects/Gemini/Langchain/env/lib/python3.12/site-packages (from httpx<1,>=0.23.0->langsmith<0.2.0,>=0.1.17->langchain) (1.3.1)\n",
      "Requirement already satisfied: h11<0.15,>=0.13 in /home/ayush/Code/ML-Projects/Gemini/Langchain/env/lib/python3.12/site-packages (from httpcore==1.*->httpx<1,>=0.23.0->langsmith<0.2.0,>=0.1.17->langchain) (0.14.0)\n",
      "Requirement already satisfied: jsonpointer>=1.9 in /home/ayush/Code/ML-Projects/Gemini/Langchain/env/lib/python3.12/site-packages (from jsonpatch<2.0,>=1.33->langchain-core<0.4.0,>=0.3.8->langchain) (3.0.0)\n",
      "Requirement already satisfied: sympy in /home/ayush/Code/ML-Projects/Gemini/Langchain/env/lib/python3.12/site-packages (from torch>=1.11.0->sentence-transformers>=2.6.0->langchain_huggingface) (1.13.3)\n",
      "Requirement already satisfied: networkx in /home/ayush/Code/ML-Projects/Gemini/Langchain/env/lib/python3.12/site-packages (from torch>=1.11.0->sentence-transformers>=2.6.0->langchain_huggingface) (3.3)\n",
      "Requirement already satisfied: jinja2 in /home/ayush/Code/ML-Projects/Gemini/Langchain/env/lib/python3.12/site-packages (from torch>=1.11.0->sentence-transformers>=2.6.0->langchain_huggingface) (3.1.4)\n",
      "Requirement already satisfied: setuptools in /home/ayush/Code/ML-Projects/Gemini/Langchain/env/lib/python3.12/site-packages (from torch>=1.11.0->sentence-transformers>=2.6.0->langchain_huggingface) (75.1.0)\n",
      "Requirement already satisfied: nvidia-cuda-nvrtc-cu12==12.1.105 in /home/ayush/Code/ML-Projects/Gemini/Langchain/env/lib/python3.12/site-packages (from torch>=1.11.0->sentence-transformers>=2.6.0->langchain_huggingface) (12.1.105)\n",
      "Requirement already satisfied: nvidia-cuda-runtime-cu12==12.1.105 in /home/ayush/Code/ML-Projects/Gemini/Langchain/env/lib/python3.12/site-packages (from torch>=1.11.0->sentence-transformers>=2.6.0->langchain_huggingface) (12.1.105)\n",
      "Requirement already satisfied: nvidia-cuda-cupti-cu12==12.1.105 in /home/ayush/Code/ML-Projects/Gemini/Langchain/env/lib/python3.12/site-packages (from torch>=1.11.0->sentence-transformers>=2.6.0->langchain_huggingface) (12.1.105)\n",
      "Requirement already satisfied: nvidia-cudnn-cu12==9.1.0.70 in /home/ayush/Code/ML-Projects/Gemini/Langchain/env/lib/python3.12/site-packages (from torch>=1.11.0->sentence-transformers>=2.6.0->langchain_huggingface) (9.1.0.70)\n",
      "Requirement already satisfied: nvidia-cublas-cu12==12.1.3.1 in /home/ayush/Code/ML-Projects/Gemini/Langchain/env/lib/python3.12/site-packages (from torch>=1.11.0->sentence-transformers>=2.6.0->langchain_huggingface) (12.1.3.1)\n",
      "Requirement already satisfied: nvidia-cufft-cu12==11.0.2.54 in /home/ayush/Code/ML-Projects/Gemini/Langchain/env/lib/python3.12/site-packages (from torch>=1.11.0->sentence-transformers>=2.6.0->langchain_huggingface) (11.0.2.54)\n",
      "Requirement already satisfied: nvidia-curand-cu12==10.3.2.106 in /home/ayush/Code/ML-Projects/Gemini/Langchain/env/lib/python3.12/site-packages (from torch>=1.11.0->sentence-transformers>=2.6.0->langchain_huggingface) (10.3.2.106)\n",
      "Requirement already satisfied: nvidia-cusolver-cu12==11.4.5.107 in /home/ayush/Code/ML-Projects/Gemini/Langchain/env/lib/python3.12/site-packages (from torch>=1.11.0->sentence-transformers>=2.6.0->langchain_huggingface) (11.4.5.107)\n",
      "Requirement already satisfied: nvidia-cusparse-cu12==12.1.0.106 in /home/ayush/Code/ML-Projects/Gemini/Langchain/env/lib/python3.12/site-packages (from torch>=1.11.0->sentence-transformers>=2.6.0->langchain_huggingface) (12.1.0.106)\n",
      "Requirement already satisfied: nvidia-nccl-cu12==2.20.5 in /home/ayush/Code/ML-Projects/Gemini/Langchain/env/lib/python3.12/site-packages (from torch>=1.11.0->sentence-transformers>=2.6.0->langchain_huggingface) (2.20.5)\n",
      "Requirement already satisfied: nvidia-nvtx-cu12==12.1.105 in /home/ayush/Code/ML-Projects/Gemini/Langchain/env/lib/python3.12/site-packages (from torch>=1.11.0->sentence-transformers>=2.6.0->langchain_huggingface) (12.1.105)\n",
      "Requirement already satisfied: triton==3.0.0 in /home/ayush/Code/ML-Projects/Gemini/Langchain/env/lib/python3.12/site-packages (from torch>=1.11.0->sentence-transformers>=2.6.0->langchain_huggingface) (3.0.0)\n",
      "Requirement already satisfied: nvidia-nvjitlink-cu12 in /home/ayush/Code/ML-Projects/Gemini/Langchain/env/lib/python3.12/site-packages (from nvidia-cusolver-cu12==11.4.5.107->torch>=1.11.0->sentence-transformers>=2.6.0->langchain_huggingface) (12.6.68)\n",
      "Requirement already satisfied: joblib>=1.2.0 in /home/ayush/Code/ML-Projects/Gemini/Langchain/env/lib/python3.12/site-packages (from scikit-learn->sentence-transformers>=2.6.0->langchain_huggingface) (1.4.2)\n",
      "Requirement already satisfied: threadpoolctl>=3.1.0 in /home/ayush/Code/ML-Projects/Gemini/Langchain/env/lib/python3.12/site-packages (from scikit-learn->sentence-transformers>=2.6.0->langchain_huggingface) (3.5.0)\n",
      "Requirement already satisfied: MarkupSafe>=2.0 in /home/ayush/Code/ML-Projects/Gemini/Langchain/env/lib/python3.12/site-packages (from jinja2->torch>=1.11.0->sentence-transformers>=2.6.0->langchain_huggingface) (2.1.5)\n",
      "Requirement already satisfied: mpmath<1.4,>=1.1.0 in /home/ayush/Code/ML-Projects/Gemini/Langchain/env/lib/python3.12/site-packages (from sympy->torch>=1.11.0->sentence-transformers>=2.6.0->langchain_huggingface) (1.3.0)\n",
      "Downloading langchain-0.3.2-py3-none-any.whl (1.0 MB)\n",
      "\u001b[2K   \u001b[90m━━━━━━━━━━━━━━━━━━━━━━━━━━━━━━━━━━━━━━━━\u001b[0m \u001b[32m1.0/1.0 MB\u001b[0m \u001b[31m8.9 kB/s\u001b[0m eta \u001b[36m0:00:00\u001b[0mta \u001b[36m0:00:17\u001b[0m\n",
      "\u001b[?25hUsing cached langchain_text_splitters-0.3.0-py3-none-any.whl (25 kB)\n",
      "Installing collected packages: langchain-text-splitters, langchain\n",
      "  Attempting uninstall: langchain-text-splitters\n",
      "    Found existing installation: langchain-text-splitters 0.2.4\n",
      "    Uninstalling langchain-text-splitters-0.2.4:\n",
      "      Successfully uninstalled langchain-text-splitters-0.2.4\n",
      "  Attempting uninstall: langchain\n",
      "    Found existing installation: langchain 0.2.16\n",
      "    Uninstalling langchain-0.2.16:\n",
      "      Successfully uninstalled langchain-0.2.16\n",
      "\u001b[31mERROR: pip's dependency resolver does not currently take into account all the packages that are installed. This behaviour is the source of the following dependency conflicts.\n",
      "crewai 0.67.1 requires langchain<0.3.0,>=0.2.16, but you have langchain 0.3.2 which is incompatible.\n",
      "langchain-community 0.2.17 requires langchain<0.3.0,>=0.2.16, but you have langchain 0.3.2 which is incompatible.\n",
      "langchain-community 0.2.17 requires langchain-core<0.3.0,>=0.2.39, but you have langchain-core 0.3.8 which is incompatible.\n",
      "crewai-tools 0.12.1 requires langchain<=0.3,>0.2, but you have langchain 0.3.2 which is incompatible.\n",
      "embedchain 0.1.122 requires langchain<=0.3,>0.2, but you have langchain 0.3.2 which is incompatible.\u001b[0m\u001b[31m\n",
      "\u001b[0mSuccessfully installed langchain-0.3.2 langchain-text-splitters-0.3.0\n",
      "Note: you may need to restart the kernel to use updated packages.\n"
     ]
    }
   ],
   "source": [
    "%pip install --upgrade langchain langchain_huggingface pydantic"
   ]
  },
  {
   "cell_type": "code",
   "execution_count": 1,
   "metadata": {},
   "outputs": [],
   "source": [
    "import os\n",
    "from dotenv import load_dotenv\n",
    "load_dotenv()\n",
    "api_key = os.getenv(\"PINECONE_API_KEY\")\n",
    "os.environ['HF_TOKEN'] = os.getenv(\"HF_TOKEN\")"
   ]
  },
  {
   "cell_type": "code",
   "execution_count": 2,
   "metadata": {},
   "outputs": [
    {
     "name": "stderr",
     "output_type": "stream",
     "text": [
      "/home/ayush/Code/ML-Projects/Gemini/Langchain/env/lib/python3.12/site-packages/pinecone/data/index.py:1: TqdmWarning: IProgress not found. Please update jupyter and ipywidgets. See https://ipywidgets.readthedocs.io/en/stable/user_install.html\n",
      "  from tqdm.autonotebook import tqdm\n"
     ]
    }
   ],
   "source": [
    "from langchain_community.retrievers import PineconeHybridSearchRetriever\n",
    "from pinecone import Pinecone , ServerlessSpec\n",
    "index_name = \"hybrid-search-langchain-pinecone\"\n",
    "pc = Pinecone(api_key=api_key)\n",
    "if index_name not in pc.list_indexes().names():\n",
    "    pc.create_index(\n",
    "        name=index_name,\n",
    "        dimension=384,\n",
    "        metric='dotproduct',\n",
    "        spec=ServerlessSpec(cloud='aws',region='us-east-1')\n",
    "    )"
   ]
  },
  {
   "cell_type": "code",
   "execution_count": 3,
   "metadata": {},
   "outputs": [],
   "source": [
    "index = pc.Index(index_name)"
   ]
  },
  {
   "cell_type": "code",
   "execution_count": 5,
   "metadata": {},
   "outputs": [
    {
     "name": "stderr",
     "output_type": "stream",
     "text": [
      "/home/ayush/Code/ML-Projects/Gemini/Langchain/env/lib/python3.12/site-packages/transformers/tokenization_utils_base.py:1601: FutureWarning: `clean_up_tokenization_spaces` was not set. It will be set to `True` by default. This behavior will be depracted in transformers v4.45, and will be then set to `False` by default. For more details check this issue: https://github.com/huggingface/transformers/issues/31884\n",
      "  warnings.warn(\n"
     ]
    },
    {
     "data": {
      "text/plain": [
       "HuggingFaceEmbeddings(client=SentenceTransformer(\n",
       "  (0): Transformer({'max_seq_length': 256, 'do_lower_case': False}) with Transformer model: BertModel \n",
       "  (1): Pooling({'word_embedding_dimension': 384, 'pooling_mode_cls_token': False, 'pooling_mode_mean_tokens': True, 'pooling_mode_max_tokens': False, 'pooling_mode_mean_sqrt_len_tokens': False, 'pooling_mode_weightedmean_tokens': False, 'pooling_mode_lasttoken': False, 'include_prompt': True})\n",
       "  (2): Normalize()\n",
       "), model_name='all-MiniLM-L6-v2', cache_folder=None, model_kwargs={}, encode_kwargs={}, multi_process=False, show_progress=False)"
      ]
     },
     "execution_count": 5,
     "metadata": {},
     "output_type": "execute_result"
    }
   ],
   "source": [
    "from langchain_huggingface import HuggingFaceEmbeddings\n",
    "embeddings = HuggingFaceEmbeddings(model_name=\"all-MiniLM-L6-v2\")\n",
    "embeddings"
   ]
  },
  {
   "cell_type": "code",
   "execution_count": 6,
   "metadata": {},
   "outputs": [
    {
     "data": {
      "text/plain": [
       "<pinecone_text.sparse.bm25_encoder.BM25Encoder at 0x76c574b93b00>"
      ]
     },
     "execution_count": 6,
     "metadata": {},
     "output_type": "execute_result"
    }
   ],
   "source": [
    "from pinecone_text.sparse import BM25Encoder\n",
    "bm25Encoder = BM25Encoder().default()\n",
    "bm25Encoder\n"
   ]
  },
  {
   "cell_type": "code",
   "execution_count": 9,
   "metadata": {},
   "outputs": [
    {
     "name": "stderr",
     "output_type": "stream",
     "text": [
      "[nltk_data] Downloading package punkt_tab to /home/ayush/nltk_data...\n",
      "[nltk_data]   Unzipping tokenizers/punkt_tab.zip.\n"
     ]
    },
    {
     "data": {
      "text/plain": [
       "True"
      ]
     },
     "execution_count": 9,
     "metadata": {},
     "output_type": "execute_result"
    }
   ],
   "source": [
    "import nltk\n",
    "nltk.download(\"punkt_tab\")"
   ]
  },
  {
   "cell_type": "code",
   "execution_count": 11,
   "metadata": {},
   "outputs": [
    {
     "name": "stderr",
     "output_type": "stream",
     "text": [
      "100%|██████████| 3/3 [00:00<00:00, 4009.85it/s]\n"
     ]
    }
   ],
   "source": [
    "sent = [\"In 2023 , I visited Paris\",\"In 2022 , I Visited New York\",\"In 2021 , I visited New Orleans\"]\n",
    "bm25Encoder.fit(sent)\n",
    "bm25Encoder.dump(\"bm25.json\")\n",
    "bm25Encoder = BM25Encoder().load(\"bm25.json\")"
   ]
  },
  {
   "cell_type": "code",
   "execution_count": 12,
   "metadata": {},
   "outputs": [],
   "source": [
    "retriever = PineconeHybridSearchRetriever(embeddings=embeddings,sparse_encoder=bm25Encoder,index=index)"
   ]
  },
  {
   "cell_type": "code",
   "execution_count": 13,
   "metadata": {},
   "outputs": [
    {
     "data": {
      "text/plain": [
       "PineconeHybridSearchRetriever(embeddings=HuggingFaceEmbeddings(client=SentenceTransformer(\n",
       "  (0): Transformer({'max_seq_length': 256, 'do_lower_case': False}) with Transformer model: BertModel \n",
       "  (1): Pooling({'word_embedding_dimension': 384, 'pooling_mode_cls_token': False, 'pooling_mode_mean_tokens': True, 'pooling_mode_max_tokens': False, 'pooling_mode_mean_sqrt_len_tokens': False, 'pooling_mode_weightedmean_tokens': False, 'pooling_mode_lasttoken': False, 'include_prompt': True})\n",
       "  (2): Normalize()\n",
       "), model_name='all-MiniLM-L6-v2', cache_folder=None, model_kwargs={}, encode_kwargs={}, multi_process=False, show_progress=False), sparse_encoder=<pinecone_text.sparse.bm25_encoder.BM25Encoder object at 0x76c57529f170>, index=<pinecone.data.index.Index object at 0x76c6ab3fb530>)"
      ]
     },
     "execution_count": 13,
     "metadata": {},
     "output_type": "execute_result"
    }
   ],
   "source": [
    "retriever"
   ]
  },
  {
   "cell_type": "code",
   "execution_count": 14,
   "metadata": {},
   "outputs": [
    {
     "name": "stderr",
     "output_type": "stream",
     "text": [
      "100%|██████████| 1/1 [00:12<00:00, 12.10s/it]\n"
     ]
    }
   ],
   "source": [
    "retriever.add_texts(\n",
    "    [\"In 2023 , I visited Paris\",\"In 2022 , I Visited New York\",\"In 2021 , I visited New Orleans\"]\n",
    ")"
   ]
  },
  {
   "cell_type": "code",
   "execution_count": 16,
   "metadata": {},
   "outputs": [
    {
     "data": {
      "text/plain": [
       "[Document(metadata={'score': 0.483954519}, page_content='In 2023 , I visited Paris'),\n",
       " Document(metadata={'score': 0.192793414}, page_content='In 2021 , I visited New Orleans'),\n",
       " Document(metadata={'score': 0.175562263}, page_content='In 2022 , I Visited New York')]"
      ]
     },
     "execution_count": 16,
     "metadata": {},
     "output_type": "execute_result"
    }
   ],
   "source": [
    "retriever.invoke(\"in which year i had been to paris\")"
   ]
  },
  {
   "cell_type": "markdown",
   "metadata": {},
   "source": []
  }
 ],
 "metadata": {
  "kernelspec": {
   "display_name": "env",
   "language": "python",
   "name": "python3"
  },
  "language_info": {
   "codemirror_mode": {
    "name": "ipython",
    "version": 3
   },
   "file_extension": ".py",
   "mimetype": "text/x-python",
   "name": "python",
   "nbconvert_exporter": "python",
   "pygments_lexer": "ipython3",
   "version": "3.12.4"
  }
 },
 "nbformat": 4,
 "nbformat_minor": 2
}
