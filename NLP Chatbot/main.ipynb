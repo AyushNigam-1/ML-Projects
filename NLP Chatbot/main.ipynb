{
  "cells": [
    {
      "cell_type": "code",
      "execution_count": 1,
      "metadata": {
        "colab": {
          "base_uri": "https://localhost:8080/",
          "height": 206
        },
        "id": "jRsRdH5o0ANN",
        "outputId": "5c779b20-dd89-461f-9332-908eb955a145"
      },
      "outputs": [
        {
          "data": {
            "text/html": [
              "<div>\n",
              "<style scoped>\n",
              "    .dataframe tbody tr th:only-of-type {\n",
              "        vertical-align: middle;\n",
              "    }\n",
              "\n",
              "    .dataframe tbody tr th {\n",
              "        vertical-align: top;\n",
              "    }\n",
              "\n",
              "    .dataframe thead th {\n",
              "        text-align: right;\n",
              "    }\n",
              "</style>\n",
              "<table border=\"1\" class=\"dataframe\">\n",
              "  <thead>\n",
              "    <tr style=\"text-align: right;\">\n",
              "      <th></th>\n",
              "      <th>Questions</th>\n",
              "      <th>Answers</th>\n",
              "    </tr>\n",
              "  </thead>\n",
              "  <tbody>\n",
              "    <tr>\n",
              "      <th>0</th>\n",
              "      <td>What is data analytics?</td>\n",
              "      <td>Data analytics is the process of examining raw...</td>\n",
              "    </tr>\n",
              "    <tr>\n",
              "      <th>1</th>\n",
              "      <td>What are the main methods used in data analytics?</td>\n",
              "      <td>Data analytics encompasses various methods suc...</td>\n",
              "    </tr>\n",
              "    <tr>\n",
              "      <th>2</th>\n",
              "      <td>How is data analytics used in business?</td>\n",
              "      <td>Data analytics is widely used in business to g...</td>\n",
              "    </tr>\n",
              "    <tr>\n",
              "      <th>3</th>\n",
              "      <td>What are the key steps in the data analytics p...</td>\n",
              "      <td>The data analytics process typically involves ...</td>\n",
              "    </tr>\n",
              "    <tr>\n",
              "      <th>4</th>\n",
              "      <td>What is the role of machine learning in data a...</td>\n",
              "      <td>Machine learning plays a crucial role in data ...</td>\n",
              "    </tr>\n",
              "  </tbody>\n",
              "</table>\n",
              "</div>"
            ],
            "text/plain": [
              "                                           Questions  \\\n",
              "0                            What is data analytics?   \n",
              "1  What are the main methods used in data analytics?   \n",
              "2            How is data analytics used in business?   \n",
              "3  What are the key steps in the data analytics p...   \n",
              "4  What is the role of machine learning in data a...   \n",
              "\n",
              "                                             Answers  \n",
              "0  Data analytics is the process of examining raw...  \n",
              "1  Data analytics encompasses various methods suc...  \n",
              "2  Data analytics is widely used in business to g...  \n",
              "3  The data analytics process typically involves ...  \n",
              "4  Machine learning plays a crucial role in data ...  "
            ]
          },
          "execution_count": 1,
          "metadata": {},
          "output_type": "execute_result"
        }
      ],
      "source": [
        "import pandas as pd\n",
        "df = pd.read_csv(\"https://raw.githubusercontent.com/pik1989/Cosine-Similarity-Chatbot/main/test.csv\")\n",
        "df.head()"
      ]
    },
    {
      "cell_type": "code",
      "execution_count": 2,
      "metadata": {
        "id": "qgSrXWPi0ccW"
      },
      "outputs": [],
      "source": [
        "questions_list = df['Questions'].tolist()\n",
        "answers_list = df['Answers'].tolist()"
      ]
    },
    {
      "cell_type": "code",
      "execution_count": 3,
      "metadata": {
        "colab": {
          "base_uri": "https://localhost:8080/"
        },
        "id": "6wKvbuNM0cZy",
        "outputId": "7e1bc19b-101a-402c-e38e-d7c446d2c3a6"
      },
      "outputs": [
        {
          "name": "stderr",
          "output_type": "stream",
          "text": [
            "[nltk_data] Downloading package punkt to /home/ayush/nltk_data...\n",
            "[nltk_data]   Package punkt is already up-to-date!\n",
            "[nltk_data] Downloading package wordnet to /home/ayush/nltk_data...\n",
            "[nltk_data]   Package wordnet is already up-to-date!\n",
            "[nltk_data] Downloading package stopwords to /home/ayush/nltk_data...\n",
            "[nltk_data]   Package stopwords is already up-to-date!\n"
          ]
        },
        {
          "data": {
            "text/plain": [
              "True"
            ]
          },
          "execution_count": 3,
          "metadata": {},
          "output_type": "execute_result"
        }
      ],
      "source": [
        "import nltk\n",
        "import numpy as np\n",
        "from sklearn.feature_extraction.text import TfidfVectorizer\n",
        "from sklearn.metrics.pairwise import cosine_similarity\n",
        "\n",
        "nltk.download('punkt')\n",
        "nltk.download('wordnet')\n",
        "nltk.download('stopwords')"
      ]
    },
    {
      "cell_type": "code",
      "execution_count": 4,
      "metadata": {
        "id": "nvGioHoF1OK-"
      },
      "outputs": [],
      "source": [
        "from nltk.stem import WordNetLemmatizer , PorterStemmer\n",
        "from nltk.corpus import stopwords\n",
        "import re\n",
        "\n",
        "def preprocess(text):\n",
        "  lemmatizer = WordNetLemmatizer()\n",
        "  stemmer = PorterStemmer()\n",
        "  stop_words = set(stopwords.words('english'))\n",
        "  text = re.sub(r'[^\\w\\s]', '', text)\n",
        "  tokens = nltk.word_tokenize(text.lower())\n",
        "  tokens = [lemmatizer.lemmatize(word) for word in tokens]\n",
        "  tokens = [stemmer.stem(word) for word in tokens]\n",
        "  return ' '.join(tokens)"
      ]
    },
    {
      "cell_type": "code",
      "execution_count": 5,
      "metadata": {
        "id": "UJzy2Of71OIS"
      },
      "outputs": [
        {
          "name": "stderr",
          "output_type": "stream",
          "text": [
            "/home/ayush/anaconda3/lib/python3.12/site-packages/sklearn/feature_extraction/text.py:525: UserWarning: The parameter 'token_pattern' will not be used since 'tokenizer' is not None'\n",
            "  warnings.warn(\n"
          ]
        }
      ],
      "source": [
        "from typing import final\n",
        "vectorizer = TfidfVectorizer(tokenizer=nltk.word_tokenize)\n",
        "x=  vectorizer.fit_transform(preprocess(q) for q in questions_list)\n",
        "\n",
        "\n",
        "def get_response(text):\n",
        "  user_input = preprocess(text)\n",
        "  user_vector = vectorizer.transform([user_input])\n",
        "  similarities = cosine_similarity(user_vector,x)\n",
        "  max_similarity = np.max(similarities)\n",
        "  if max_similarity > 0.6:\n",
        "    high_similarity_questions = [q for q,s in zip(questions_list,similarities[0]) if s > 0.6]\n",
        "    high_similarity_answers = [a for q,a in zip(questions_list,answers_list) if q in high_similarity_questions]\n",
        "    target_answers = []\n",
        "    for answer in high_similarity_answers:\n",
        "      if answer not in target_answers:\n",
        "        target_answers.append(answer)\n",
        "    print(target_answers[0])\n",
        "\n",
        "    z = vectorizer.fit_transform([preprocess(q) for q in high_similarity_questions])\n",
        "    processed_text = preprocess(text)\n",
        "    user_vector = vectorizer.transform([processed_text])\n",
        "    similarities = cosine_similarity(user_vector,z)\n",
        "    closet=np.argmax(high_similarity_questions)\n",
        "    return(high_similarity_answers[closet])\n",
        "\n",
        "  else:\n",
        "    return \"I'm sorry, I don't understand.\""
      ]
    },
    {
      "cell_type": "code",
      "execution_count": 6,
      "metadata": {
        "colab": {
          "base_uri": "https://localhost:8080/",
          "height": 90
        },
        "id": "mvx2OOfP_ekl",
        "outputId": "2c732d35-e067-4caa-ac7d-1a4c35ff0732"
      },
      "outputs": [
        {
          "name": "stdout",
          "output_type": "stream",
          "text": [
            "Data analytics is the process of examining raw data to discover meaningful patterns, draw conclusions, and make informed decisions. It involves collecting, transforming, and analyzing large sets of data to extract valuable insights and support decision-making.\n"
          ]
        },
        {
          "data": {
            "text/plain": [
              "'Data analytics is the process of examining raw data to discover meaningful patterns, draw conclusions, and make informed decisions. It involves collecting, transforming, and analyzing large sets of data to extract valuable insights and support decision-making.'"
            ]
          },
          "execution_count": 6,
          "metadata": {},
          "output_type": "execute_result"
        }
      ],
      "source": [
        "get_response(\"what is data analytics\")"
      ]
    }
  ],
  "metadata": {
    "colab": {
      "provenance": []
    },
    "kernelspec": {
      "display_name": "Python 3",
      "name": "python3"
    },
    "language_info": {
      "codemirror_mode": {
        "name": "ipython",
        "version": 3
      },
      "file_extension": ".py",
      "mimetype": "text/x-python",
      "name": "python",
      "nbconvert_exporter": "python",
      "pygments_lexer": "ipython3",
      "version": "3.12.4"
    }
  },
  "nbformat": 4,
  "nbformat_minor": 0
}
