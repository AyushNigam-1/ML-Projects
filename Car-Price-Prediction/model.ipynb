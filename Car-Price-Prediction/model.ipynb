{
 "cells": [
  {
   "cell_type": "code",
   "execution_count": 1,
   "metadata": {},
   "outputs": [],
   "source": [
    "import pandas as pd\n",
    "df = pd.read_csv(\"laptop_data.csv\")"
   ]
  },
  {
   "cell_type": "code",
   "execution_count": 2,
   "metadata": {},
   "outputs": [],
   "source": [
    "df.drop('Unnamed: 0', axis=1, inplace=True)"
   ]
  },
  {
   "cell_type": "code",
   "execution_count": 3,
   "metadata": {},
   "outputs": [
    {
     "name": "stdout",
     "output_type": "stream",
     "text": [
      "Company             0\n",
      "TypeName            0\n",
      "Inches              0\n",
      "ScreenResolution    0\n",
      "Cpu                 0\n",
      "Ram                 0\n",
      "Memory              0\n",
      "Gpu                 0\n",
      "OpSys               0\n",
      "Weight              0\n",
      "Price               0\n",
      "dtype: int64\n"
     ]
    }
   ],
   "source": [
    "missing_values = df.isnull().sum()\n",
    "print(missing_values)"
   ]
  },
  {
   "cell_type": "code",
   "execution_count": 4,
   "metadata": {},
   "outputs": [],
   "source": [
    "X = df.drop('Price',axis=1)\n",
    "Y = df['Price']"
   ]
  },
  {
   "cell_type": "code",
   "execution_count": 5,
   "metadata": {},
   "outputs": [
    {
     "data": {
      "text/html": [
       "<div>\n",
       "<style scoped>\n",
       "    .dataframe tbody tr th:only-of-type {\n",
       "        vertical-align: middle;\n",
       "    }\n",
       "\n",
       "    .dataframe tbody tr th {\n",
       "        vertical-align: top;\n",
       "    }\n",
       "\n",
       "    .dataframe thead th {\n",
       "        text-align: right;\n",
       "    }\n",
       "</style>\n",
       "<table border=\"1\" class=\"dataframe\">\n",
       "  <thead>\n",
       "    <tr style=\"text-align: right;\">\n",
       "      <th></th>\n",
       "      <th>Company</th>\n",
       "      <th>TypeName</th>\n",
       "      <th>Inches</th>\n",
       "      <th>ScreenResolution</th>\n",
       "      <th>Cpu</th>\n",
       "      <th>Ram</th>\n",
       "      <th>Memory</th>\n",
       "      <th>Gpu</th>\n",
       "      <th>OpSys</th>\n",
       "      <th>Weight</th>\n",
       "    </tr>\n",
       "  </thead>\n",
       "  <tbody>\n",
       "    <tr>\n",
       "      <th>319</th>\n",
       "      <td>Acer</td>\n",
       "      <td>Notebook</td>\n",
       "      <td>11.6</td>\n",
       "      <td>1366x768</td>\n",
       "      <td>Intel Pentium Quad Core N3710 1.6GHz</td>\n",
       "      <td>4GB</td>\n",
       "      <td>128GB Flash Storage</td>\n",
       "      <td>Intel HD Graphics 405</td>\n",
       "      <td>Windows 10</td>\n",
       "      <td>1.4kg</td>\n",
       "    </tr>\n",
       "    <tr>\n",
       "      <th>615</th>\n",
       "      <td>Asus</td>\n",
       "      <td>Gaming</td>\n",
       "      <td>17.3</td>\n",
       "      <td>Full HD 1920x1080</td>\n",
       "      <td>Intel Core i7 7700HQ 2.8GHz</td>\n",
       "      <td>8GB</td>\n",
       "      <td>128GB SSD +  1TB HDD</td>\n",
       "      <td>Nvidia GeForce GTX 1050</td>\n",
       "      <td>Windows 10</td>\n",
       "      <td>3kg</td>\n",
       "    </tr>\n",
       "    <tr>\n",
       "      <th>713</th>\n",
       "      <td>Asus</td>\n",
       "      <td>Notebook</td>\n",
       "      <td>14.0</td>\n",
       "      <td>Full HD 1920x1080</td>\n",
       "      <td>Intel Celeron Dual Core N3350 1.1GHz</td>\n",
       "      <td>4GB</td>\n",
       "      <td>32GB Flash Storage</td>\n",
       "      <td>Intel HD Graphics 500</td>\n",
       "      <td>Windows 10</td>\n",
       "      <td>1.5kg</td>\n",
       "    </tr>\n",
       "    <tr>\n",
       "      <th>5</th>\n",
       "      <td>Acer</td>\n",
       "      <td>Notebook</td>\n",
       "      <td>15.6</td>\n",
       "      <td>1366x768</td>\n",
       "      <td>AMD A9-Series 9420 3GHz</td>\n",
       "      <td>4GB</td>\n",
       "      <td>500GB HDD</td>\n",
       "      <td>AMD Radeon R5</td>\n",
       "      <td>Windows 10</td>\n",
       "      <td>2.1kg</td>\n",
       "    </tr>\n",
       "    <tr>\n",
       "      <th>100</th>\n",
       "      <td>HP</td>\n",
       "      <td>Notebook</td>\n",
       "      <td>15.6</td>\n",
       "      <td>Full HD 1920x1080</td>\n",
       "      <td>Intel Core i7 7500U 2.7GHz</td>\n",
       "      <td>8GB</td>\n",
       "      <td>256GB SSD</td>\n",
       "      <td>AMD Radeon 530</td>\n",
       "      <td>Windows 10</td>\n",
       "      <td>1.91kg</td>\n",
       "    </tr>\n",
       "    <tr>\n",
       "      <th>...</th>\n",
       "      <td>...</td>\n",
       "      <td>...</td>\n",
       "      <td>...</td>\n",
       "      <td>...</td>\n",
       "      <td>...</td>\n",
       "      <td>...</td>\n",
       "      <td>...</td>\n",
       "      <td>...</td>\n",
       "      <td>...</td>\n",
       "      <td>...</td>\n",
       "    </tr>\n",
       "    <tr>\n",
       "      <th>1095</th>\n",
       "      <td>Acer</td>\n",
       "      <td>Notebook</td>\n",
       "      <td>15.6</td>\n",
       "      <td>Full HD 1920x1080</td>\n",
       "      <td>Intel Core i5 7200U 2.5GHz</td>\n",
       "      <td>8GB</td>\n",
       "      <td>256GB SSD +  1TB HDD</td>\n",
       "      <td>Nvidia GeForce GTX 950M</td>\n",
       "      <td>Windows 10</td>\n",
       "      <td>2.4kg</td>\n",
       "    </tr>\n",
       "    <tr>\n",
       "      <th>1130</th>\n",
       "      <td>HP</td>\n",
       "      <td>Notebook</td>\n",
       "      <td>15.6</td>\n",
       "      <td>1366x768</td>\n",
       "      <td>Intel Core i7 7500U 2.7GHz</td>\n",
       "      <td>8GB</td>\n",
       "      <td>2TB HDD</td>\n",
       "      <td>Intel HD Graphics 620</td>\n",
       "      <td>Windows 10</td>\n",
       "      <td>2.04kg</td>\n",
       "    </tr>\n",
       "    <tr>\n",
       "      <th>1294</th>\n",
       "      <td>HP</td>\n",
       "      <td>Notebook</td>\n",
       "      <td>15.6</td>\n",
       "      <td>Full HD 1920x1080</td>\n",
       "      <td>AMD A9-Series 9410 2.9GHz</td>\n",
       "      <td>6GB</td>\n",
       "      <td>1.0TB Hybrid</td>\n",
       "      <td>AMD Radeon R7 M440</td>\n",
       "      <td>Windows 10</td>\n",
       "      <td>2.04kg</td>\n",
       "    </tr>\n",
       "    <tr>\n",
       "      <th>860</th>\n",
       "      <td>Lenovo</td>\n",
       "      <td>Notebook</td>\n",
       "      <td>15.6</td>\n",
       "      <td>IPS Panel Full HD 1920x1080</td>\n",
       "      <td>Intel Core i5 7200U 2.5GHz</td>\n",
       "      <td>8GB</td>\n",
       "      <td>1TB HDD</td>\n",
       "      <td>Intel HD Graphics 620</td>\n",
       "      <td>Windows 10</td>\n",
       "      <td>2.3kg</td>\n",
       "    </tr>\n",
       "    <tr>\n",
       "      <th>1126</th>\n",
       "      <td>Lenovo</td>\n",
       "      <td>2 in 1 Convertible</td>\n",
       "      <td>10.1</td>\n",
       "      <td>IPS Panel Touchscreen 1920x1200</td>\n",
       "      <td>Intel Atom x5-Z8550 1.44GHz</td>\n",
       "      <td>4GB</td>\n",
       "      <td>64GB Flash Storage</td>\n",
       "      <td>Intel HD Graphics 400</td>\n",
       "      <td>Windows 10</td>\n",
       "      <td>0.69kg</td>\n",
       "    </tr>\n",
       "  </tbody>\n",
       "</table>\n",
       "<p>873 rows × 10 columns</p>\n",
       "</div>"
      ],
      "text/plain": [
       "     Company            TypeName  Inches                 ScreenResolution  \\\n",
       "319     Acer            Notebook    11.6                         1366x768   \n",
       "615     Asus              Gaming    17.3                Full HD 1920x1080   \n",
       "713     Asus            Notebook    14.0                Full HD 1920x1080   \n",
       "5       Acer            Notebook    15.6                         1366x768   \n",
       "100       HP            Notebook    15.6                Full HD 1920x1080   \n",
       "...      ...                 ...     ...                              ...   \n",
       "1095    Acer            Notebook    15.6                Full HD 1920x1080   \n",
       "1130      HP            Notebook    15.6                         1366x768   \n",
       "1294      HP            Notebook    15.6                Full HD 1920x1080   \n",
       "860   Lenovo            Notebook    15.6      IPS Panel Full HD 1920x1080   \n",
       "1126  Lenovo  2 in 1 Convertible    10.1  IPS Panel Touchscreen 1920x1200   \n",
       "\n",
       "                                       Cpu  Ram                Memory  \\\n",
       "319   Intel Pentium Quad Core N3710 1.6GHz  4GB   128GB Flash Storage   \n",
       "615            Intel Core i7 7700HQ 2.8GHz  8GB  128GB SSD +  1TB HDD   \n",
       "713   Intel Celeron Dual Core N3350 1.1GHz  4GB    32GB Flash Storage   \n",
       "5                  AMD A9-Series 9420 3GHz  4GB             500GB HDD   \n",
       "100             Intel Core i7 7500U 2.7GHz  8GB             256GB SSD   \n",
       "...                                    ...  ...                   ...   \n",
       "1095            Intel Core i5 7200U 2.5GHz  8GB  256GB SSD +  1TB HDD   \n",
       "1130            Intel Core i7 7500U 2.7GHz  8GB               2TB HDD   \n",
       "1294             AMD A9-Series 9410 2.9GHz  6GB          1.0TB Hybrid   \n",
       "860             Intel Core i5 7200U 2.5GHz  8GB               1TB HDD   \n",
       "1126           Intel Atom x5-Z8550 1.44GHz  4GB    64GB Flash Storage   \n",
       "\n",
       "                          Gpu       OpSys  Weight  \n",
       "319     Intel HD Graphics 405  Windows 10   1.4kg  \n",
       "615   Nvidia GeForce GTX 1050  Windows 10     3kg  \n",
       "713     Intel HD Graphics 500  Windows 10   1.5kg  \n",
       "5               AMD Radeon R5  Windows 10   2.1kg  \n",
       "100            AMD Radeon 530  Windows 10  1.91kg  \n",
       "...                       ...         ...     ...  \n",
       "1095  Nvidia GeForce GTX 950M  Windows 10   2.4kg  \n",
       "1130    Intel HD Graphics 620  Windows 10  2.04kg  \n",
       "1294       AMD Radeon R7 M440  Windows 10  2.04kg  \n",
       "860     Intel HD Graphics 620  Windows 10   2.3kg  \n",
       "1126    Intel HD Graphics 400  Windows 10  0.69kg  \n",
       "\n",
       "[873 rows x 10 columns]"
      ]
     },
     "execution_count": 5,
     "metadata": {},
     "output_type": "execute_result"
    }
   ],
   "source": [
    "from sklearn.model_selection import train_test_split\n",
    "X_train,X_test ,Y_train,y_test = train_test_split(X,Y,test_size=0.33,random_state =42)\n",
    "X_train"
   ]
  },
  {
   "cell_type": "code",
   "execution_count": 6,
   "metadata": {},
   "outputs": [
    {
     "data": {
      "text/plain": [
       "array(['IPS Panel Retina Display 2560x1600', '1440x900',\n",
       "       'Full HD 1920x1080', 'IPS Panel Retina Display 2880x1800',\n",
       "       '1366x768', 'IPS Panel Full HD 1920x1080',\n",
       "       'IPS Panel Retina Display 2304x1440',\n",
       "       'IPS Panel Full HD / Touchscreen 1920x1080',\n",
       "       'Full HD / Touchscreen 1920x1080',\n",
       "       'Touchscreen / Quad HD+ 3200x1800',\n",
       "       'IPS Panel Touchscreen 1920x1200', 'Touchscreen 2256x1504',\n",
       "       'Quad HD+ / Touchscreen 3200x1800', 'IPS Panel 1366x768',\n",
       "       'IPS Panel 4K Ultra HD / Touchscreen 3840x2160',\n",
       "       'IPS Panel Full HD 2160x1440',\n",
       "       '4K Ultra HD / Touchscreen 3840x2160', 'Touchscreen 2560x1440',\n",
       "       '1600x900', 'IPS Panel 4K Ultra HD 3840x2160',\n",
       "       '4K Ultra HD 3840x2160', 'Touchscreen 1366x768',\n",
       "       'IPS Panel Full HD 1366x768', 'IPS Panel 2560x1440',\n",
       "       'IPS Panel Full HD 2560x1440',\n",
       "       'IPS Panel Retina Display 2736x1824', 'Touchscreen 2400x1600',\n",
       "       '2560x1440', 'IPS Panel Quad HD+ 2560x1440',\n",
       "       'IPS Panel Quad HD+ 3200x1800',\n",
       "       'IPS Panel Quad HD+ / Touchscreen 3200x1800',\n",
       "       'IPS Panel Touchscreen 1366x768', '1920x1080',\n",
       "       'IPS Panel Full HD 1920x1200',\n",
       "       'IPS Panel Touchscreen / 4K Ultra HD 3840x2160',\n",
       "       'IPS Panel Touchscreen 2560x1440',\n",
       "       'Touchscreen / Full HD 1920x1080', 'Quad HD+ 3200x1800',\n",
       "       'Touchscreen / 4K Ultra HD 3840x2160',\n",
       "       'IPS Panel Touchscreen 2400x1600'], dtype=object)"
      ]
     },
     "execution_count": 6,
     "metadata": {},
     "output_type": "execute_result"
    }
   ],
   "source": [
    "df['ScreenResolution'].unique()"
   ]
  },
  {
   "cell_type": "code",
   "execution_count": 7,
   "metadata": {},
   "outputs": [
    {
     "name": "stdout",
     "output_type": "stream",
     "text": [
      "Company --> 19\n",
      "TypeName --> 6\n",
      "Inches --> 18\n",
      "ScreenResolution --> 40\n",
      "Cpu --> 118\n",
      "Ram --> 9\n",
      "Memory --> 39\n",
      "Gpu --> 110\n",
      "OpSys --> 9\n",
      "Weight --> 179\n",
      "Price --> 791\n"
     ]
    }
   ],
   "source": [
    "for col_name in df.columns:\n",
    "    print(f'{col_name} --> {len(df[col_name].unique())}')\n"
   ]
  },
  {
   "cell_type": "code",
   "execution_count": 8,
   "metadata": {},
   "outputs": [
    {
     "data": {
      "text/plain": [
       "array(['128GB SSD', '128GB Flash Storage', '256GB SSD', '512GB SSD',\n",
       "       '500GB HDD', '256GB Flash Storage', '1TB HDD',\n",
       "       '32GB Flash Storage', '128GB SSD +  1TB HDD',\n",
       "       '256GB SSD +  256GB SSD', '64GB Flash Storage',\n",
       "       '256GB SSD +  1TB HDD', '256GB SSD +  2TB HDD', '32GB SSD',\n",
       "       '2TB HDD', '64GB SSD', '1.0TB Hybrid', '512GB SSD +  1TB HDD',\n",
       "       '1TB SSD', '256GB SSD +  500GB HDD', '128GB SSD +  2TB HDD',\n",
       "       '512GB SSD +  512GB SSD', '16GB SSD', '16GB Flash Storage',\n",
       "       '512GB SSD +  256GB SSD', '512GB SSD +  2TB HDD',\n",
       "       '64GB Flash Storage +  1TB HDD', '180GB SSD', '1TB HDD +  1TB HDD',\n",
       "       '32GB HDD', '1TB SSD +  1TB HDD', '512GB Flash Storage',\n",
       "       '128GB HDD', '240GB SSD', '8GB SSD', '508GB Hybrid', '1.0TB HDD',\n",
       "       '512GB SSD +  1.0TB Hybrid', '256GB SSD +  1.0TB Hybrid'],\n",
       "      dtype=object)"
      ]
     },
     "execution_count": 8,
     "metadata": {},
     "output_type": "execute_result"
    }
   ],
   "source": [
    "df['Memory'].unique()"
   ]
  },
  {
   "cell_type": "code",
   "execution_count": 9,
   "metadata": {},
   "outputs": [],
   "source": [
    "df['Memory'] = df['Memory'].str.replace('Flash Storage', 'SSD')"
   ]
  },
  {
   "cell_type": "code",
   "execution_count": 10,
   "metadata": {},
   "outputs": [
    {
     "data": {
      "text/plain": [
       "array(['128GB SSD', '256GB SSD', '512GB SSD', '500GB HDD', '1TB HDD',\n",
       "       '32GB SSD', '128GB SSD +  1TB HDD', '256GB SSD +  256GB SSD',\n",
       "       '64GB SSD', '256GB SSD +  1TB HDD', '256GB SSD +  2TB HDD',\n",
       "       '2TB HDD', '1.0TB Hybrid', '512GB SSD +  1TB HDD', '1TB SSD',\n",
       "       '256GB SSD +  500GB HDD', '128GB SSD +  2TB HDD',\n",
       "       '512GB SSD +  512GB SSD', '16GB SSD', '512GB SSD +  256GB SSD',\n",
       "       '512GB SSD +  2TB HDD', '64GB SSD +  1TB HDD', '180GB SSD',\n",
       "       '1TB HDD +  1TB HDD', '32GB HDD', '1TB SSD +  1TB HDD',\n",
       "       '128GB HDD', '240GB SSD', '8GB SSD', '508GB Hybrid', '1.0TB HDD',\n",
       "       '512GB SSD +  1.0TB Hybrid', '256GB SSD +  1.0TB Hybrid'],\n",
       "      dtype=object)"
      ]
     },
     "execution_count": 10,
     "metadata": {},
     "output_type": "execute_result"
    }
   ],
   "source": [
    "df['Memory'].unique()"
   ]
  },
  {
   "cell_type": "code",
   "execution_count": 11,
   "metadata": {},
   "outputs": [],
   "source": [
    "memory_order = [\n",
    "    '32GB HDD',\n",
    "    '128GB HDD',\n",
    "    '500GB HDD',\n",
    "    '1.0TB HDD',\n",
    "    '1TB HDD',\n",
    "    '2TB HDD',\n",
    "    '1TB HDD +  1TB HDD',\n",
    "    '508GB Hybrid',\n",
    "    '1.0TB Hybrid',\n",
    "    '8GB SSD',\n",
    "    '16GB SSD',\n",
    "    '32GB SSD',\n",
    "    '64GB SSD',\n",
    "    '128GB SSD',\n",
    "    '180GB SSD',\n",
    "    '240GB SSD',\n",
    "    '256GB SSD',\n",
    "    '512GB SSD',\n",
    "      '1TB SSD',\n",
    "      '64GB SSD +  1TB HDD',\n",
    "    '256GB SSD +  500GB HDD',\n",
    "    '128GB SSD +  1TB HDD',\n",
    "    '128GB SSD +  2TB HDD',\n",
    "    '256GB SSD +  1TB HDD',\n",
    "    '256GB SSD +  2TB HDD',\n",
    "    '512GB SSD +  1TB HDD',\n",
    "    '1TB SSD +  1TB HDD',\n",
    "    '256GB SSD +  1.0TB Hybrid',\n",
    "    '512GB SSD +  1.0TB Hybrid',\n",
    "    '512GB SSD +  2TB HDD',\n",
    "    '256GB SSD +  256GB SSD',\n",
    "    '512GB SSD +  256GB SSD',\n",
    "    '512GB SSD +  512GB SSD'\n",
    "]\n",
    "# ['64GB SSD +  1TB HDD', '256GB SSD +  1.0TB Hybrid', '1TB HDD']\n",
    "# order =  ['1.0TB HDD', '512GB SSD +  1.0TB Hybrid', '32GB HDD', '128GB HDD', '256GB SSD +  2TB HDD', '16GB SSD', '512GB SSD +  2TB HDD', '512GB SSD +  512GB SSD', '256GB SSD +  1.0TB Hybrid', '256GB SSD +  256GB SSD', '1TB HDD +  1TB HDD', '64GB SSD +  1TB HDD']"
   ]
  },
  {
   "cell_type": "code",
   "execution_count": 12,
   "metadata": {},
   "outputs": [
    {
     "data": {
      "text/plain": [
       "array(['8GB', '16GB', '4GB', '2GB', '12GB', '6GB', '32GB', '24GB', '64GB'],\n",
       "      dtype=object)"
      ]
     },
     "execution_count": 12,
     "metadata": {},
     "output_type": "execute_result"
    }
   ],
   "source": [
    "df['Ram'].unique()\n"
   ]
  },
  {
   "cell_type": "code",
   "execution_count": 13,
   "metadata": {},
   "outputs": [],
   "source": [
    "ram_order = ['2GB', '4GB', '6GB', '8GB', '12GB', '16GB', '24GB', '32GB','64GB']"
   ]
  },
  {
   "cell_type": "code",
   "execution_count": 14,
   "metadata": {},
   "outputs": [
    {
     "data": {
      "text/plain": [
       "array(['Intel Core i5 2.3GHz', 'Intel Core i5 1.8GHz',\n",
       "       'Intel Core i5 7200U 2.5GHz', 'Intel Core i7 2.7GHz',\n",
       "       'Intel Core i5 3.1GHz', 'AMD A9-Series 9420 3GHz',\n",
       "       'Intel Core i7 2.2GHz', 'Intel Core i7 8550U 1.8GHz',\n",
       "       'Intel Core i5 8250U 1.6GHz', 'Intel Core i3 6006U 2GHz',\n",
       "       'Intel Core i7 2.8GHz', 'Intel Core M m3 1.2GHz',\n",
       "       'Intel Core i7 7500U 2.7GHz', 'Intel Core i7 2.9GHz',\n",
       "       'Intel Core i3 7100U 2.4GHz', 'Intel Atom x5-Z8350 1.44GHz',\n",
       "       'Intel Core i5 7300HQ 2.5GHz', 'AMD E-Series E2-9000e 1.5GHz',\n",
       "       'Intel Core i5 1.6GHz', 'Intel Core i7 8650U 1.9GHz',\n",
       "       'Intel Atom x5-Z8300 1.44GHz', 'AMD E-Series E2-6110 1.5GHz',\n",
       "       'AMD A6-Series 9220 2.5GHz',\n",
       "       'Intel Celeron Dual Core N3350 1.1GHz',\n",
       "       'Intel Core i3 7130U 2.7GHz', 'Intel Core i7 7700HQ 2.8GHz',\n",
       "       'Intel Core i5 2.0GHz', 'AMD Ryzen 1700 3GHz',\n",
       "       'Intel Pentium Quad Core N4200 1.1GHz',\n",
       "       'Intel Atom x5-Z8550 1.44GHz',\n",
       "       'Intel Celeron Dual Core N3060 1.6GHz', 'Intel Core i5 1.3GHz',\n",
       "       'AMD FX 9830P 3GHz', 'Intel Core i7 7560U 2.4GHz',\n",
       "       'AMD E-Series 6110 1.5GHz', 'Intel Core i5 6200U 2.3GHz',\n",
       "       'Intel Core M 6Y75 1.2GHz', 'Intel Core i5 7500U 2.7GHz',\n",
       "       'Intel Core i3 6006U 2.2GHz', 'AMD A6-Series 9220 2.9GHz',\n",
       "       'Intel Core i7 6920HQ 2.9GHz', 'Intel Core i5 7Y54 1.2GHz',\n",
       "       'Intel Core i7 7820HK 2.9GHz', 'Intel Xeon E3-1505M V6 3GHz',\n",
       "       'Intel Core i7 6500U 2.5GHz', 'AMD E-Series 9000e 1.5GHz',\n",
       "       'AMD A10-Series A10-9620P 2.5GHz', 'AMD A6-Series A6-9220 2.5GHz',\n",
       "       'Intel Core i5 2.9GHz', 'Intel Core i7 6600U 2.6GHz',\n",
       "       'Intel Core i3 6006U 2.0GHz',\n",
       "       'Intel Celeron Dual Core 3205U 1.5GHz',\n",
       "       'Intel Core i7 7820HQ 2.9GHz', 'AMD A10-Series 9600P 2.4GHz',\n",
       "       'Intel Core i7 7600U 2.8GHz', 'AMD A8-Series 7410 2.2GHz',\n",
       "       'Intel Celeron Dual Core 3855U 1.6GHz',\n",
       "       'Intel Pentium Quad Core N3710 1.6GHz',\n",
       "       'AMD A12-Series 9720P 2.7GHz', 'Intel Core i5 7300U 2.6GHz',\n",
       "       'AMD A12-Series 9720P 3.6GHz',\n",
       "       'Intel Celeron Quad Core N3450 1.1GHz',\n",
       "       'Intel Celeron Dual Core N3060 1.60GHz',\n",
       "       'Intel Core i5 6440HQ 2.6GHz', 'Intel Core i7 6820HQ 2.7GHz',\n",
       "       'AMD Ryzen 1600 3.2GHz', 'Intel Core i7 7Y75 1.3GHz',\n",
       "       'Intel Core i5 7440HQ 2.8GHz', 'Intel Core i7 7660U 2.5GHz',\n",
       "       'Intel Core i7 7700HQ 2.7GHz', 'Intel Core M m3-7Y30 2.2GHz',\n",
       "       'Intel Core i5 7Y57 1.2GHz', 'Intel Core i7 6700HQ 2.6GHz',\n",
       "       'Intel Core i3 6100U 2.3GHz', 'AMD A10-Series 9620P 2.5GHz',\n",
       "       'AMD E-Series 7110 1.8GHz', 'Intel Celeron Dual Core N3350 2.0GHz',\n",
       "       'AMD A9-Series A9-9420 3GHz', 'Intel Core i7 6820HK 2.7GHz',\n",
       "       'Intel Core M 7Y30 1.0GHz', 'Intel Xeon E3-1535M v6 3.1GHz',\n",
       "       'Intel Celeron Quad Core N3160 1.6GHz',\n",
       "       'Intel Core i5 6300U 2.4GHz', 'Intel Core i3 6100U 2.1GHz',\n",
       "       'AMD E-Series E2-9000 2.2GHz',\n",
       "       'Intel Celeron Dual Core N3050 1.6GHz',\n",
       "       'Intel Core M M3-6Y30 0.9GHz', 'AMD A9-Series 9420 2.9GHz',\n",
       "       'Intel Core i5 6300HQ 2.3GHz', 'AMD A6-Series 7310 2GHz',\n",
       "       'Intel Atom Z8350 1.92GHz', 'Intel Xeon E3-1535M v5 2.9GHz',\n",
       "       'Intel Core i5 6260U 1.8GHz',\n",
       "       'Intel Pentium Dual Core N4200 1.1GHz',\n",
       "       'Intel Celeron Quad Core N3710 1.6GHz', 'Intel Core M 1.2GHz',\n",
       "       'AMD A12-Series 9700P 2.5GHz', 'Intel Core i7 7500U 2.5GHz',\n",
       "       'Intel Pentium Dual Core 4405U 2.1GHz',\n",
       "       'AMD A4-Series 7210 2.2GHz', 'Intel Core i7 6560U 2.2GHz',\n",
       "       'Intel Core M m7-6Y75 1.2GHz', 'AMD FX 8800P 2.1GHz',\n",
       "       'Intel Core M M7-6Y75 1.2GHz', 'Intel Core i5 7200U 2.50GHz',\n",
       "       'Intel Core i5 7200U 2.70GHz', 'Intel Atom X5-Z8350 1.44GHz',\n",
       "       'Intel Core i5 7200U 2.7GHz', 'Intel Core M 1.1GHz',\n",
       "       'Intel Pentium Dual Core 4405Y 1.5GHz',\n",
       "       'Intel Pentium Quad Core N3700 1.6GHz', 'Intel Core M 6Y54 1.1GHz',\n",
       "       'Intel Core i7 6500U 2.50GHz',\n",
       "       'Intel Celeron Dual Core N3350 2GHz',\n",
       "       'Samsung Cortex A72&A53 2.0GHz', 'AMD E-Series 9000 2.2GHz',\n",
       "       'Intel Core M 6Y30 0.9GHz', 'AMD A9-Series 9410 2.9GHz'],\n",
       "      dtype=object)"
      ]
     },
     "execution_count": 14,
     "metadata": {},
     "output_type": "execute_result"
    }
   ],
   "source": [
    "df['Cpu'].unique()"
   ]
  },
  {
   "cell_type": "code",
   "execution_count": 15,
   "metadata": {},
   "outputs": [],
   "source": [
    "cpu_order = ['Intel Celeron Dual Core N3350 1.1GHz', 'Intel Celeron Dual Core N3060 1.6GHz', 'Intel Atom x5-Z8300 1.44GHz', 'Intel Atom x5-Z8350 1.44GHz', 'Intel Atom Z8350 1.92GHz', 'AMD E-Series E2-9000e 1.5GHz', 'AMD E-Series 7110 1.8GHz', 'AMD E-Series E2-6110 1.5GHz', 'AMD A4-Series 7210 2.2GHz', 'Intel Pentium Quad Core N3700 1.6GHz', 'Intel Pentium Dual Core N4200 1.1GHz', 'Intel Pentium Dual Core 4405U 2.1GHz', 'Intel Core M M3-6Y30 0.9GHz', 'Intel Core M M7-6Y75 1.2GHz', 'Intel Core M m3-7Y30 2.2GHz', 'Intel Core M m7-6Y75 1.2GHz', 'Intel Core M 7Y30 1.0GHz', 'Intel Core M 6Y54 1.1GHz', 'Intel Core M 6Y75 1.2GHz', 'Intel Core M 1.2GHz', 'Intel Core M 1.1GHz', 'Intel Celeron Quad Core N3160 1.6GHz', 'Intel Celeron Quad Core N3450 1.1GHz', 'Intel Core i3 6006U 2GHz', 'Intel Core i3 6006U 2.2GHz', 'Intel Core i3 6100U 2.3GHz', 'Intel Core i3 6100U 2.1GHz', 'Intel Core i3 7100U 2.4GHz', 'Intel Core i3 7130U 2.7GHz', 'AMD A6-Series 7310 2GHz', 'AMD A6-Series 9220 2.5GHz', 'AMD A6-Series 9220 2.9GHz', 'AMD A10-Series 9620P 2.5GHz', 'AMD A10-Series 9600P 2.4GHz', 'AMD A12-Series 9720P 2.7GHz', 'AMD A12-Series 9720P 3.6GHz', 'AMD FX 8800P 2.1GHz', 'AMD FX 9830P 3GHz', 'AMD A8-Series 7410 2.2GHz', 'Intel Core i5 1.3GHz', 'Intel Core i5 1.6GHz', 'Intel Core i5 6200U 2.3GHz', 'Intel Core i5 6300HQ 2.3GHz', 'Intel Core i5 6440HQ 2.6GHz', 'Intel Core i5 7300HQ 2.5GHz', 'Intel Core i5 7300U 2.6GHz', 'Intel Core i5 7200U 2.5GHz', 'Intel Core i5 7200U 2.7GHz', 'Intel Core i5 7440HQ 2.8GHz', 'Intel Core i5 7500U 2.7GHz', 'Intel Core i7 7Y75 1.3GHz', 'Intel Core i7 6500U 2.5GHz', 'Intel Core i7 7500U 2.7GHz', 'Intel Core i7 7700HQ 2.7GHz', 'Intel Core i7 6700HQ 2.6GHz', 'Intel Core i7 6820HK 2.7GHz', 'Intel Core i7 6820HQ 2.7GHz', 'Intel Core i7 7600U 2.8GHz', 'Intel Core i7 7660U 2.5GHz', 'Intel Core i7 7820HK 2.9GHz', 'Intel Core i7 7820HQ 2.9GHz', 'Intel Core i7 8650U 1.9GHz', 'Intel Core i7 8550U 1.8GHz', 'Intel Core i7 6560U 2.2GHz', 'Intel Xeon E3-1535M v6 3.1GHz', 'Intel Xeon E3-1505M V6 3GHz', 'Intel Xeon E3-1535M v5 2.9GHz', 'AMD Ryzen 1600 3.2GHz', 'AMD Ryzen 1700 3GHz', 'Samsung Cortex A72&A53 2.0GHz', 'Intel Core i7 6920HQ 2.9GHz']"
   ]
  },
  {
   "cell_type": "code",
   "execution_count": 16,
   "metadata": {},
   "outputs": [
    {
     "data": {
      "text/plain": [
       "array(['Intel Iris Plus Graphics 640', 'Intel HD Graphics 6000',\n",
       "       'Intel HD Graphics 620', 'AMD Radeon Pro 455',\n",
       "       'Intel Iris Plus Graphics 650', 'AMD Radeon R5',\n",
       "       'Intel Iris Pro Graphics', 'Nvidia GeForce MX150',\n",
       "       'Intel UHD Graphics 620', 'Intel HD Graphics 520',\n",
       "       'AMD Radeon Pro 555', 'AMD Radeon R5 M430',\n",
       "       'Intel HD Graphics 615', 'AMD Radeon Pro 560',\n",
       "       'Nvidia GeForce 940MX', 'Intel HD Graphics 400',\n",
       "       'Nvidia GeForce GTX 1050', 'AMD Radeon R2', 'AMD Radeon 530',\n",
       "       'Nvidia GeForce 930MX', 'Intel HD Graphics',\n",
       "       'Intel HD Graphics 500', 'Nvidia GeForce 930MX ',\n",
       "       'Nvidia GeForce GTX 1060', 'Nvidia GeForce 150MX',\n",
       "       'Intel Iris Graphics 540', 'AMD Radeon RX 580',\n",
       "       'Nvidia GeForce 920MX', 'AMD Radeon R4 Graphics', 'AMD Radeon 520',\n",
       "       'Nvidia GeForce GTX 1070', 'Nvidia GeForce GTX 1050 Ti',\n",
       "       'Nvidia GeForce MX130', 'AMD R4 Graphics',\n",
       "       'Nvidia GeForce GTX 940MX', 'AMD Radeon RX 560',\n",
       "       'Nvidia GeForce 920M', 'AMD Radeon R7 M445', 'AMD Radeon RX 550',\n",
       "       'Nvidia GeForce GTX 1050M', 'Intel HD Graphics 515',\n",
       "       'AMD Radeon R5 M420', 'Intel HD Graphics 505',\n",
       "       'Nvidia GTX 980 SLI', 'AMD R17M-M1-70', 'Nvidia GeForce GTX 1080',\n",
       "       'Nvidia Quadro M1200', 'Nvidia GeForce 920MX ',\n",
       "       'Nvidia GeForce GTX 950M', 'AMD FirePro W4190M ',\n",
       "       'Nvidia GeForce GTX 980M', 'Intel Iris Graphics 550',\n",
       "       'Nvidia GeForce 930M', 'Intel HD Graphics 630',\n",
       "       'AMD Radeon R5 430', 'Nvidia GeForce GTX 940M',\n",
       "       'Intel HD Graphics 510', 'Intel HD Graphics 405',\n",
       "       'AMD Radeon RX 540', 'Nvidia GeForce GT 940MX',\n",
       "       'AMD FirePro W5130M', 'Nvidia Quadro M2200M', 'AMD Radeon R4',\n",
       "       'Nvidia Quadro M620', 'AMD Radeon R7 M460',\n",
       "       'Intel HD Graphics 530', 'Nvidia GeForce GTX 965M',\n",
       "       'Nvidia GeForce GTX1080', 'Nvidia GeForce GTX1050 Ti',\n",
       "       'Nvidia GeForce GTX 960M', 'AMD Radeon R2 Graphics',\n",
       "       'Nvidia Quadro M620M', 'Nvidia GeForce GTX 970M',\n",
       "       'Nvidia GeForce GTX 960<U+039C>', 'Intel Graphics 620',\n",
       "       'Nvidia GeForce GTX 960', 'AMD Radeon R5 520',\n",
       "       'AMD Radeon R7 M440', 'AMD Radeon R7', 'Nvidia Quadro M520M',\n",
       "       'Nvidia Quadro M2200', 'Nvidia Quadro M2000M',\n",
       "       'Intel HD Graphics 540', 'Nvidia Quadro M1000M', 'AMD Radeon 540',\n",
       "       'Nvidia GeForce GTX 1070M', 'Nvidia GeForce GTX1060',\n",
       "       'Intel HD Graphics 5300', 'AMD Radeon R5 M420X',\n",
       "       'AMD Radeon R7 Graphics', 'Nvidia GeForce 920',\n",
       "       'Nvidia GeForce 940M', 'Nvidia GeForce GTX 930MX',\n",
       "       'AMD Radeon R7 M465', 'AMD Radeon R3', 'Nvidia GeForce GTX 1050Ti',\n",
       "       'AMD Radeon R7 M365X', 'AMD Radeon R9 M385',\n",
       "       'Intel HD Graphics 620 ', 'Nvidia Quadro 3000M',\n",
       "       'Nvidia GeForce GTX 980 ', 'AMD Radeon R5 M330',\n",
       "       'AMD FirePro W4190M', 'AMD FirePro W6150M', 'AMD Radeon R5 M315',\n",
       "       'Nvidia Quadro M500M', 'AMD Radeon R7 M360',\n",
       "       'Nvidia Quadro M3000M', 'Nvidia GeForce 960M', 'ARM Mali T860 MP4'],\n",
       "      dtype=object)"
      ]
     },
     "execution_count": 16,
     "metadata": {},
     "output_type": "execute_result"
    }
   ],
   "source": [
    "df[\"Gpu\"].unique()"
   ]
  },
  {
   "cell_type": "code",
   "execution_count": 17,
   "metadata": {},
   "outputs": [
    {
     "data": {
      "text/plain": [
       "0       128GB SSD\n",
       "1       128GB SSD\n",
       "2       256GB SSD\n",
       "3       512GB SSD\n",
       "4       256GB SSD\n",
       "          ...    \n",
       "1298    128GB SSD\n",
       "1299    512GB SSD\n",
       "1300     64GB SSD\n",
       "1301      1TB HDD\n",
       "1302    500GB HDD\n",
       "Name: Memory, Length: 1303, dtype: object"
      ]
     },
     "execution_count": 17,
     "metadata": {},
     "output_type": "execute_result"
    }
   ],
   "source": [
    "df.columns\n",
    "df['Memory']"
   ]
  },
  {
   "cell_type": "code",
   "execution_count": 18,
   "metadata": {},
   "outputs": [
    {
     "ename": "ValueError",
     "evalue": "Found unknown categories ['Intel Celeron Dual Core N3350 2GHz', 'Intel Core i5 3.1GHz', 'Intel Core i5 7200U 2.70GHz', 'AMD A12-Series 9700P 2.5GHz', 'Intel Core i7 7700HQ 2.8GHz', 'Intel Pentium Dual Core 4405Y 1.5GHz', 'AMD E-Series E2-9000 2.2GHz', 'Intel Core i5 7Y57 1.2GHz', 'Intel Core i7 2.7GHz', 'Intel Core i3 6006U 2.0GHz', 'AMD A9-Series 9410 2.9GHz', 'Intel Celeron Quad Core N3710 1.6GHz', 'Intel Celeron Dual Core 3855U 1.6GHz', 'Intel Core i5 7200U 2.50GHz', 'Intel Core M m3 1.2GHz', 'Intel Celeron Dual Core N3050 1.6GHz', 'Intel Core i5 6300U 2.4GHz', 'Intel Atom x5-Z8550 1.44GHz', 'Intel Core i5 2.3GHz', 'AMD E-Series 9000 2.2GHz', 'Intel Core i5 8250U 1.6GHz', 'Intel Pentium Quad Core N3710 1.6GHz', 'Intel Core i5 1.8GHz', 'AMD A9-Series 9420 3GHz', 'Intel Core i7 6500U 2.50GHz', 'AMD A9-Series 9420 2.9GHz', 'Intel Core i5 7Y54 1.2GHz', 'AMD A10-Series A10-9620P 2.5GHz', 'Intel Core M 6Y30 0.9GHz', 'Intel Core i7 7500U 2.5GHz', 'AMD A9-Series A9-9420 3GHz', 'Intel Core i7 6600U 2.6GHz', 'Intel Core i5 6260U 1.8GHz', 'Intel Core i7 2.9GHz', 'AMD A6-Series A6-9220 2.5GHz', 'Intel Celeron Dual Core N3350 2.0GHz', 'Intel Celeron Dual Core 3205U 1.5GHz', 'Intel Atom X5-Z8350 1.44GHz', 'Intel Core i7 2.2GHz', 'AMD E-Series 6110 1.5GHz', 'Intel Celeron Dual Core N3060 1.60GHz', 'Intel Pentium Quad Core N4200 1.1GHz', 'Intel Core i7 2.8GHz', 'Intel Core i5 2.9GHz', 'AMD E-Series 9000e 1.5GHz', 'Intel Core i5 2.0GHz', 'Intel Core i7 7560U 2.4GHz'] in column 0 during fit",
     "output_type": "error",
     "traceback": [
      "\u001b[0;31m---------------------------------------------------------------------------\u001b[0m",
      "\u001b[0;31mValueError\u001b[0m                                Traceback (most recent call last)",
      "Cell \u001b[0;32mIn[18], line 8\u001b[0m\n\u001b[1;32m      6\u001b[0m \u001b[38;5;28;01mfor\u001b[39;00m category , order \u001b[38;5;129;01min\u001b[39;00m ordinal_categories\u001b[38;5;241m.\u001b[39mitems():\n\u001b[1;32m      7\u001b[0m     encoder \u001b[38;5;241m=\u001b[39m OrdinalEncoder(categories\u001b[38;5;241m=\u001b[39m[order])\n\u001b[0;32m----> 8\u001b[0m     df[category] \u001b[38;5;241m=\u001b[39m encoder\u001b[38;5;241m.\u001b[39mfit_transform(df[[category]])\n",
      "File \u001b[0;32m~/anaconda3/lib/python3.12/site-packages/sklearn/utils/_set_output.py:295\u001b[0m, in \u001b[0;36m_wrap_method_output.<locals>.wrapped\u001b[0;34m(self, X, *args, **kwargs)\u001b[0m\n\u001b[1;32m    293\u001b[0m \u001b[38;5;129m@wraps\u001b[39m(f)\n\u001b[1;32m    294\u001b[0m \u001b[38;5;28;01mdef\u001b[39;00m \u001b[38;5;21mwrapped\u001b[39m(\u001b[38;5;28mself\u001b[39m, X, \u001b[38;5;241m*\u001b[39margs, \u001b[38;5;241m*\u001b[39m\u001b[38;5;241m*\u001b[39mkwargs):\n\u001b[0;32m--> 295\u001b[0m     data_to_wrap \u001b[38;5;241m=\u001b[39m f(\u001b[38;5;28mself\u001b[39m, X, \u001b[38;5;241m*\u001b[39margs, \u001b[38;5;241m*\u001b[39m\u001b[38;5;241m*\u001b[39mkwargs)\n\u001b[1;32m    296\u001b[0m     \u001b[38;5;28;01mif\u001b[39;00m \u001b[38;5;28misinstance\u001b[39m(data_to_wrap, \u001b[38;5;28mtuple\u001b[39m):\n\u001b[1;32m    297\u001b[0m         \u001b[38;5;66;03m# only wrap the first output for cross decomposition\u001b[39;00m\n\u001b[1;32m    298\u001b[0m         return_tuple \u001b[38;5;241m=\u001b[39m (\n\u001b[1;32m    299\u001b[0m             _wrap_data_with_container(method, data_to_wrap[\u001b[38;5;241m0\u001b[39m], X, \u001b[38;5;28mself\u001b[39m),\n\u001b[1;32m    300\u001b[0m             \u001b[38;5;241m*\u001b[39mdata_to_wrap[\u001b[38;5;241m1\u001b[39m:],\n\u001b[1;32m    301\u001b[0m         )\n",
      "File \u001b[0;32m~/anaconda3/lib/python3.12/site-packages/sklearn/base.py:1098\u001b[0m, in \u001b[0;36mTransformerMixin.fit_transform\u001b[0;34m(self, X, y, **fit_params)\u001b[0m\n\u001b[1;32m   1083\u001b[0m         warnings\u001b[38;5;241m.\u001b[39mwarn(\n\u001b[1;32m   1084\u001b[0m             (\n\u001b[1;32m   1085\u001b[0m                 \u001b[38;5;124mf\u001b[39m\u001b[38;5;124m\"\u001b[39m\u001b[38;5;124mThis object (\u001b[39m\u001b[38;5;132;01m{\u001b[39;00m\u001b[38;5;28mself\u001b[39m\u001b[38;5;241m.\u001b[39m\u001b[38;5;18m__class__\u001b[39m\u001b[38;5;241m.\u001b[39m\u001b[38;5;18m__name__\u001b[39m\u001b[38;5;132;01m}\u001b[39;00m\u001b[38;5;124m) has a `transform`\u001b[39m\u001b[38;5;124m\"\u001b[39m\n\u001b[0;32m   (...)\u001b[0m\n\u001b[1;32m   1093\u001b[0m             \u001b[38;5;167;01mUserWarning\u001b[39;00m,\n\u001b[1;32m   1094\u001b[0m         )\n\u001b[1;32m   1096\u001b[0m \u001b[38;5;28;01mif\u001b[39;00m y \u001b[38;5;129;01mis\u001b[39;00m \u001b[38;5;28;01mNone\u001b[39;00m:\n\u001b[1;32m   1097\u001b[0m     \u001b[38;5;66;03m# fit method of arity 1 (unsupervised transformation)\u001b[39;00m\n\u001b[0;32m-> 1098\u001b[0m     \u001b[38;5;28;01mreturn\u001b[39;00m \u001b[38;5;28mself\u001b[39m\u001b[38;5;241m.\u001b[39mfit(X, \u001b[38;5;241m*\u001b[39m\u001b[38;5;241m*\u001b[39mfit_params)\u001b[38;5;241m.\u001b[39mtransform(X)\n\u001b[1;32m   1099\u001b[0m \u001b[38;5;28;01melse\u001b[39;00m:\n\u001b[1;32m   1100\u001b[0m     \u001b[38;5;66;03m# fit method of arity 2 (supervised transformation)\u001b[39;00m\n\u001b[1;32m   1101\u001b[0m     \u001b[38;5;28;01mreturn\u001b[39;00m \u001b[38;5;28mself\u001b[39m\u001b[38;5;241m.\u001b[39mfit(X, y, \u001b[38;5;241m*\u001b[39m\u001b[38;5;241m*\u001b[39mfit_params)\u001b[38;5;241m.\u001b[39mtransform(X)\n",
      "File \u001b[0;32m~/anaconda3/lib/python3.12/site-packages/sklearn/base.py:1474\u001b[0m, in \u001b[0;36m_fit_context.<locals>.decorator.<locals>.wrapper\u001b[0;34m(estimator, *args, **kwargs)\u001b[0m\n\u001b[1;32m   1467\u001b[0m     estimator\u001b[38;5;241m.\u001b[39m_validate_params()\n\u001b[1;32m   1469\u001b[0m \u001b[38;5;28;01mwith\u001b[39;00m config_context(\n\u001b[1;32m   1470\u001b[0m     skip_parameter_validation\u001b[38;5;241m=\u001b[39m(\n\u001b[1;32m   1471\u001b[0m         prefer_skip_nested_validation \u001b[38;5;129;01mor\u001b[39;00m global_skip_validation\n\u001b[1;32m   1472\u001b[0m     )\n\u001b[1;32m   1473\u001b[0m ):\n\u001b[0;32m-> 1474\u001b[0m     \u001b[38;5;28;01mreturn\u001b[39;00m fit_method(estimator, \u001b[38;5;241m*\u001b[39margs, \u001b[38;5;241m*\u001b[39m\u001b[38;5;241m*\u001b[39mkwargs)\n",
      "File \u001b[0;32m~/anaconda3/lib/python3.12/site-packages/sklearn/preprocessing/_encoders.py:1495\u001b[0m, in \u001b[0;36mOrdinalEncoder.fit\u001b[0;34m(self, X, y)\u001b[0m\n\u001b[1;32m   1488\u001b[0m     \u001b[38;5;28;01mraise\u001b[39;00m \u001b[38;5;167;01mTypeError\u001b[39;00m(\n\u001b[1;32m   1489\u001b[0m         \u001b[38;5;124m\"\u001b[39m\u001b[38;5;124munknown_value should only be set when \u001b[39m\u001b[38;5;124m\"\u001b[39m\n\u001b[1;32m   1490\u001b[0m         \u001b[38;5;124m\"\u001b[39m\u001b[38;5;124mhandle_unknown is \u001b[39m\u001b[38;5;124m'\u001b[39m\u001b[38;5;124muse_encoded_value\u001b[39m\u001b[38;5;124m'\u001b[39m\u001b[38;5;124m, \u001b[39m\u001b[38;5;124m\"\u001b[39m\n\u001b[1;32m   1491\u001b[0m         \u001b[38;5;124mf\u001b[39m\u001b[38;5;124m\"\u001b[39m\u001b[38;5;124mgot \u001b[39m\u001b[38;5;132;01m{\u001b[39;00m\u001b[38;5;28mself\u001b[39m\u001b[38;5;241m.\u001b[39munknown_value\u001b[38;5;132;01m}\u001b[39;00m\u001b[38;5;124m.\u001b[39m\u001b[38;5;124m\"\u001b[39m\n\u001b[1;32m   1492\u001b[0m     )\n\u001b[1;32m   1494\u001b[0m \u001b[38;5;66;03m# `_fit` will only raise an error when `self.handle_unknown=\"error\"`\u001b[39;00m\n\u001b[0;32m-> 1495\u001b[0m fit_results \u001b[38;5;241m=\u001b[39m \u001b[38;5;28mself\u001b[39m\u001b[38;5;241m.\u001b[39m_fit(\n\u001b[1;32m   1496\u001b[0m     X,\n\u001b[1;32m   1497\u001b[0m     handle_unknown\u001b[38;5;241m=\u001b[39m\u001b[38;5;28mself\u001b[39m\u001b[38;5;241m.\u001b[39mhandle_unknown,\n\u001b[1;32m   1498\u001b[0m     force_all_finite\u001b[38;5;241m=\u001b[39m\u001b[38;5;124m\"\u001b[39m\u001b[38;5;124mallow-nan\u001b[39m\u001b[38;5;124m\"\u001b[39m,\n\u001b[1;32m   1499\u001b[0m     return_and_ignore_missing_for_infrequent\u001b[38;5;241m=\u001b[39m\u001b[38;5;28;01mTrue\u001b[39;00m,\n\u001b[1;32m   1500\u001b[0m )\n\u001b[1;32m   1501\u001b[0m \u001b[38;5;28mself\u001b[39m\u001b[38;5;241m.\u001b[39m_missing_indices \u001b[38;5;241m=\u001b[39m fit_results[\u001b[38;5;124m\"\u001b[39m\u001b[38;5;124mmissing_indices\u001b[39m\u001b[38;5;124m\"\u001b[39m]\n\u001b[1;32m   1503\u001b[0m cardinalities \u001b[38;5;241m=\u001b[39m [\u001b[38;5;28mlen\u001b[39m(categories) \u001b[38;5;28;01mfor\u001b[39;00m categories \u001b[38;5;129;01min\u001b[39;00m \u001b[38;5;28mself\u001b[39m\u001b[38;5;241m.\u001b[39mcategories_]\n",
      "File \u001b[0;32m~/anaconda3/lib/python3.12/site-packages/sklearn/preprocessing/_encoders.py:159\u001b[0m, in \u001b[0;36m_BaseEncoder._fit\u001b[0;34m(self, X, handle_unknown, force_all_finite, return_counts, return_and_ignore_missing_for_infrequent)\u001b[0m\n\u001b[1;32m    154\u001b[0m     \u001b[38;5;28;01mif\u001b[39;00m diff:\n\u001b[1;32m    155\u001b[0m         msg \u001b[38;5;241m=\u001b[39m (\n\u001b[1;32m    156\u001b[0m             \u001b[38;5;124m\"\u001b[39m\u001b[38;5;124mFound unknown categories \u001b[39m\u001b[38;5;132;01m{0}\u001b[39;00m\u001b[38;5;124m in column \u001b[39m\u001b[38;5;132;01m{1}\u001b[39;00m\u001b[38;5;124m\"\u001b[39m\n\u001b[1;32m    157\u001b[0m             \u001b[38;5;124m\"\u001b[39m\u001b[38;5;124m during fit\u001b[39m\u001b[38;5;124m\"\u001b[39m\u001b[38;5;241m.\u001b[39mformat(diff, i)\n\u001b[1;32m    158\u001b[0m         )\n\u001b[0;32m--> 159\u001b[0m         \u001b[38;5;28;01mraise\u001b[39;00m \u001b[38;5;167;01mValueError\u001b[39;00m(msg)\n\u001b[1;32m    160\u001b[0m \u001b[38;5;28;01mif\u001b[39;00m compute_counts:\n\u001b[1;32m    161\u001b[0m     category_counts\u001b[38;5;241m.\u001b[39mappend(_get_counts(Xi, cats))\n",
      "\u001b[0;31mValueError\u001b[0m: Found unknown categories ['Intel Celeron Dual Core N3350 2GHz', 'Intel Core i5 3.1GHz', 'Intel Core i5 7200U 2.70GHz', 'AMD A12-Series 9700P 2.5GHz', 'Intel Core i7 7700HQ 2.8GHz', 'Intel Pentium Dual Core 4405Y 1.5GHz', 'AMD E-Series E2-9000 2.2GHz', 'Intel Core i5 7Y57 1.2GHz', 'Intel Core i7 2.7GHz', 'Intel Core i3 6006U 2.0GHz', 'AMD A9-Series 9410 2.9GHz', 'Intel Celeron Quad Core N3710 1.6GHz', 'Intel Celeron Dual Core 3855U 1.6GHz', 'Intel Core i5 7200U 2.50GHz', 'Intel Core M m3 1.2GHz', 'Intel Celeron Dual Core N3050 1.6GHz', 'Intel Core i5 6300U 2.4GHz', 'Intel Atom x5-Z8550 1.44GHz', 'Intel Core i5 2.3GHz', 'AMD E-Series 9000 2.2GHz', 'Intel Core i5 8250U 1.6GHz', 'Intel Pentium Quad Core N3710 1.6GHz', 'Intel Core i5 1.8GHz', 'AMD A9-Series 9420 3GHz', 'Intel Core i7 6500U 2.50GHz', 'AMD A9-Series 9420 2.9GHz', 'Intel Core i5 7Y54 1.2GHz', 'AMD A10-Series A10-9620P 2.5GHz', 'Intel Core M 6Y30 0.9GHz', 'Intel Core i7 7500U 2.5GHz', 'AMD A9-Series A9-9420 3GHz', 'Intel Core i7 6600U 2.6GHz', 'Intel Core i5 6260U 1.8GHz', 'Intel Core i7 2.9GHz', 'AMD A6-Series A6-9220 2.5GHz', 'Intel Celeron Dual Core N3350 2.0GHz', 'Intel Celeron Dual Core 3205U 1.5GHz', 'Intel Atom X5-Z8350 1.44GHz', 'Intel Core i7 2.2GHz', 'AMD E-Series 6110 1.5GHz', 'Intel Celeron Dual Core N3060 1.60GHz', 'Intel Pentium Quad Core N4200 1.1GHz', 'Intel Core i7 2.8GHz', 'Intel Core i5 2.9GHz', 'AMD E-Series 9000e 1.5GHz', 'Intel Core i5 2.0GHz', 'Intel Core i7 7560U 2.4GHz'] in column 0 during fit"
     ]
    }
   ],
   "source": [
    "from sklearn.preprocessing import OrdinalEncoder\n",
    "\n",
    "ordinal_categories = {\"Ram\":ram_order,\"Memory\":memory_order , \"Cpu\":cpu_order}\n",
    "# ordinal_categories = {\"Ram\":ram_order,\"Memory\":memory_order , }\n",
    "\n",
    "for category , order in ordinal_categories.items():\n",
    "    encoder = OrdinalEncoder(categories=[order])\n",
    "    df[category] = encoder.fit_transform(df[[category]])\n",
    "\n",
    "\n"
   ]
  },
  {
   "cell_type": "code",
   "execution_count": null,
   "metadata": {},
   "outputs": [],
   "source": []
  },
  {
   "cell_type": "code",
   "execution_count": null,
   "metadata": {},
   "outputs": [],
   "source": [
    "\n",
    "from sklearn.pipeline import Pipeline\n",
    "\n",
    "\n",
    "\n",
    "# ordinal_features = ['Ram' , '']\n",
    "# numerical_transformer = Pipeline(steps=[\n",
    "#     ('ordinal', OrdinalEncoder(strategy='mean')),  \n",
    "# ])\n",
    "\n",
    "# categorical_features = ['city']\n",
    "# categorical_transformer = Pipeline(steps=[\n",
    "#     ('imputer', SimpleImputer(strategy='constant', fill_value='missing')),  # Fill missing values\n",
    "#     ('onehot', OneHotEncoder(handle_unknown='ignore'))  # One-hot encode categorical features\n",
    "# ])\n"
   ]
  },
  {
   "cell_type": "code",
   "execution_count": null,
   "metadata": {},
   "outputs": [],
   "source": []
  },
  {
   "cell_type": "code",
   "execution_count": null,
   "metadata": {},
   "outputs": [],
   "source": []
  },
  {
   "cell_type": "code",
   "execution_count": null,
   "metadata": {},
   "outputs": [],
   "source": []
  },
  {
   "cell_type": "code",
   "execution_count": null,
   "metadata": {},
   "outputs": [],
   "source": [
    "from sklearn.compose import ColumnTransformer"
   ]
  },
  {
   "cell_type": "code",
   "execution_count": null,
   "metadata": {},
   "outputs": [],
   "source": []
  }
 ],
 "metadata": {
  "kernelspec": {
   "display_name": "base",
   "language": "python",
   "name": "python3"
  },
  "language_info": {
   "codemirror_mode": {
    "name": "ipython",
    "version": 3
   },
   "file_extension": ".py",
   "mimetype": "text/x-python",
   "name": "python",
   "nbconvert_exporter": "python",
   "pygments_lexer": "ipython3",
   "version": "3.12.4"
  }
 },
 "nbformat": 4,
 "nbformat_minor": 2
}
