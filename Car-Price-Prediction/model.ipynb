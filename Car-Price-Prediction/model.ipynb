{
 "cells": [
  {
   "cell_type": "code",
   "execution_count": null,
   "metadata": {},
   "outputs": [],
   "source": [
    "import pandas as pd\n",
    "df = pd.read_csv(\"laptop_data.csv\")"
   ]
  },
  {
   "cell_type": "code",
   "execution_count": null,
   "metadata": {},
   "outputs": [],
   "source": [
    "df.drop('Unnamed: 0', axis=1, inplace=True)"
   ]
  },
  {
   "cell_type": "code",
   "execution_count": null,
   "metadata": {},
   "outputs": [],
   "source": [
    "missing_values = df.isnull().sum()\n",
    "print(missing_values)"
   ]
  },
  {
   "cell_type": "code",
   "execution_count": null,
   "metadata": {},
   "outputs": [],
   "source": [
    "X = df.drop('Price',axis=1)\n",
    "Y = df['Price']"
   ]
  },
  {
   "cell_type": "code",
   "execution_count": 21,
   "metadata": {},
   "outputs": [
    {
     "data": {
      "text/html": [
       "<div>\n",
       "<style scoped>\n",
       "    .dataframe tbody tr th:only-of-type {\n",
       "        vertical-align: middle;\n",
       "    }\n",
       "\n",
       "    .dataframe tbody tr th {\n",
       "        vertical-align: top;\n",
       "    }\n",
       "\n",
       "    .dataframe thead th {\n",
       "        text-align: right;\n",
       "    }\n",
       "</style>\n",
       "<table border=\"1\" class=\"dataframe\">\n",
       "  <thead>\n",
       "    <tr style=\"text-align: right;\">\n",
       "      <th></th>\n",
       "      <th>Company</th>\n",
       "      <th>TypeName</th>\n",
       "      <th>Inches</th>\n",
       "      <th>ScreenResolution</th>\n",
       "      <th>Cpu</th>\n",
       "      <th>Ram</th>\n",
       "      <th>Memory</th>\n",
       "      <th>Gpu</th>\n",
       "      <th>OpSys</th>\n",
       "      <th>Weight</th>\n",
       "    </tr>\n",
       "  </thead>\n",
       "  <tbody>\n",
       "    <tr>\n",
       "      <th>319</th>\n",
       "      <td>Acer</td>\n",
       "      <td>Notebook</td>\n",
       "      <td>11.6</td>\n",
       "      <td>1366x768</td>\n",
       "      <td>Intel Pentium Quad Core N3710 1.6GHz</td>\n",
       "      <td>4GB</td>\n",
       "      <td>128GB Flash Storage</td>\n",
       "      <td>Intel HD Graphics 405</td>\n",
       "      <td>Windows 10</td>\n",
       "      <td>1.4kg</td>\n",
       "    </tr>\n",
       "    <tr>\n",
       "      <th>615</th>\n",
       "      <td>Asus</td>\n",
       "      <td>Gaming</td>\n",
       "      <td>17.3</td>\n",
       "      <td>Full HD 1920x1080</td>\n",
       "      <td>Intel Core i7 7700HQ 2.8GHz</td>\n",
       "      <td>8GB</td>\n",
       "      <td>128GB SSD +  1TB HDD</td>\n",
       "      <td>Nvidia GeForce GTX 1050</td>\n",
       "      <td>Windows 10</td>\n",
       "      <td>3kg</td>\n",
       "    </tr>\n",
       "    <tr>\n",
       "      <th>713</th>\n",
       "      <td>Asus</td>\n",
       "      <td>Notebook</td>\n",
       "      <td>14.0</td>\n",
       "      <td>Full HD 1920x1080</td>\n",
       "      <td>Intel Celeron Dual Core N3350 1.1GHz</td>\n",
       "      <td>4GB</td>\n",
       "      <td>32GB Flash Storage</td>\n",
       "      <td>Intel HD Graphics 500</td>\n",
       "      <td>Windows 10</td>\n",
       "      <td>1.5kg</td>\n",
       "    </tr>\n",
       "    <tr>\n",
       "      <th>5</th>\n",
       "      <td>Acer</td>\n",
       "      <td>Notebook</td>\n",
       "      <td>15.6</td>\n",
       "      <td>1366x768</td>\n",
       "      <td>AMD A9-Series 9420 3GHz</td>\n",
       "      <td>4GB</td>\n",
       "      <td>500GB HDD</td>\n",
       "      <td>AMD Radeon R5</td>\n",
       "      <td>Windows 10</td>\n",
       "      <td>2.1kg</td>\n",
       "    </tr>\n",
       "    <tr>\n",
       "      <th>100</th>\n",
       "      <td>HP</td>\n",
       "      <td>Notebook</td>\n",
       "      <td>15.6</td>\n",
       "      <td>Full HD 1920x1080</td>\n",
       "      <td>Intel Core i7 7500U 2.7GHz</td>\n",
       "      <td>8GB</td>\n",
       "      <td>256GB SSD</td>\n",
       "      <td>AMD Radeon 530</td>\n",
       "      <td>Windows 10</td>\n",
       "      <td>1.91kg</td>\n",
       "    </tr>\n",
       "    <tr>\n",
       "      <th>...</th>\n",
       "      <td>...</td>\n",
       "      <td>...</td>\n",
       "      <td>...</td>\n",
       "      <td>...</td>\n",
       "      <td>...</td>\n",
       "      <td>...</td>\n",
       "      <td>...</td>\n",
       "      <td>...</td>\n",
       "      <td>...</td>\n",
       "      <td>...</td>\n",
       "    </tr>\n",
       "    <tr>\n",
       "      <th>1095</th>\n",
       "      <td>Acer</td>\n",
       "      <td>Notebook</td>\n",
       "      <td>15.6</td>\n",
       "      <td>Full HD 1920x1080</td>\n",
       "      <td>Intel Core i5 7200U 2.5GHz</td>\n",
       "      <td>8GB</td>\n",
       "      <td>256GB SSD +  1TB HDD</td>\n",
       "      <td>Nvidia GeForce GTX 950M</td>\n",
       "      <td>Windows 10</td>\n",
       "      <td>2.4kg</td>\n",
       "    </tr>\n",
       "    <tr>\n",
       "      <th>1130</th>\n",
       "      <td>HP</td>\n",
       "      <td>Notebook</td>\n",
       "      <td>15.6</td>\n",
       "      <td>1366x768</td>\n",
       "      <td>Intel Core i7 7500U 2.7GHz</td>\n",
       "      <td>8GB</td>\n",
       "      <td>2TB HDD</td>\n",
       "      <td>Intel HD Graphics 620</td>\n",
       "      <td>Windows 10</td>\n",
       "      <td>2.04kg</td>\n",
       "    </tr>\n",
       "    <tr>\n",
       "      <th>1294</th>\n",
       "      <td>HP</td>\n",
       "      <td>Notebook</td>\n",
       "      <td>15.6</td>\n",
       "      <td>Full HD 1920x1080</td>\n",
       "      <td>AMD A9-Series 9410 2.9GHz</td>\n",
       "      <td>6GB</td>\n",
       "      <td>1.0TB Hybrid</td>\n",
       "      <td>AMD Radeon R7 M440</td>\n",
       "      <td>Windows 10</td>\n",
       "      <td>2.04kg</td>\n",
       "    </tr>\n",
       "    <tr>\n",
       "      <th>860</th>\n",
       "      <td>Lenovo</td>\n",
       "      <td>Notebook</td>\n",
       "      <td>15.6</td>\n",
       "      <td>IPS Panel Full HD 1920x1080</td>\n",
       "      <td>Intel Core i5 7200U 2.5GHz</td>\n",
       "      <td>8GB</td>\n",
       "      <td>1TB HDD</td>\n",
       "      <td>Intel HD Graphics 620</td>\n",
       "      <td>Windows 10</td>\n",
       "      <td>2.3kg</td>\n",
       "    </tr>\n",
       "    <tr>\n",
       "      <th>1126</th>\n",
       "      <td>Lenovo</td>\n",
       "      <td>2 in 1 Convertible</td>\n",
       "      <td>10.1</td>\n",
       "      <td>IPS Panel Touchscreen 1920x1200</td>\n",
       "      <td>Intel Atom x5-Z8550 1.44GHz</td>\n",
       "      <td>4GB</td>\n",
       "      <td>64GB Flash Storage</td>\n",
       "      <td>Intel HD Graphics 400</td>\n",
       "      <td>Windows 10</td>\n",
       "      <td>0.69kg</td>\n",
       "    </tr>\n",
       "  </tbody>\n",
       "</table>\n",
       "<p>873 rows × 10 columns</p>\n",
       "</div>"
      ],
      "text/plain": [
       "     Company            TypeName  Inches                 ScreenResolution  \\\n",
       "319     Acer            Notebook    11.6                         1366x768   \n",
       "615     Asus              Gaming    17.3                Full HD 1920x1080   \n",
       "713     Asus            Notebook    14.0                Full HD 1920x1080   \n",
       "5       Acer            Notebook    15.6                         1366x768   \n",
       "100       HP            Notebook    15.6                Full HD 1920x1080   \n",
       "...      ...                 ...     ...                              ...   \n",
       "1095    Acer            Notebook    15.6                Full HD 1920x1080   \n",
       "1130      HP            Notebook    15.6                         1366x768   \n",
       "1294      HP            Notebook    15.6                Full HD 1920x1080   \n",
       "860   Lenovo            Notebook    15.6      IPS Panel Full HD 1920x1080   \n",
       "1126  Lenovo  2 in 1 Convertible    10.1  IPS Panel Touchscreen 1920x1200   \n",
       "\n",
       "                                       Cpu  Ram                Memory  \\\n",
       "319   Intel Pentium Quad Core N3710 1.6GHz  4GB   128GB Flash Storage   \n",
       "615            Intel Core i7 7700HQ 2.8GHz  8GB  128GB SSD +  1TB HDD   \n",
       "713   Intel Celeron Dual Core N3350 1.1GHz  4GB    32GB Flash Storage   \n",
       "5                  AMD A9-Series 9420 3GHz  4GB             500GB HDD   \n",
       "100             Intel Core i7 7500U 2.7GHz  8GB             256GB SSD   \n",
       "...                                    ...  ...                   ...   \n",
       "1095            Intel Core i5 7200U 2.5GHz  8GB  256GB SSD +  1TB HDD   \n",
       "1130            Intel Core i7 7500U 2.7GHz  8GB               2TB HDD   \n",
       "1294             AMD A9-Series 9410 2.9GHz  6GB          1.0TB Hybrid   \n",
       "860             Intel Core i5 7200U 2.5GHz  8GB               1TB HDD   \n",
       "1126           Intel Atom x5-Z8550 1.44GHz  4GB    64GB Flash Storage   \n",
       "\n",
       "                          Gpu       OpSys  Weight  \n",
       "319     Intel HD Graphics 405  Windows 10   1.4kg  \n",
       "615   Nvidia GeForce GTX 1050  Windows 10     3kg  \n",
       "713     Intel HD Graphics 500  Windows 10   1.5kg  \n",
       "5               AMD Radeon R5  Windows 10   2.1kg  \n",
       "100            AMD Radeon 530  Windows 10  1.91kg  \n",
       "...                       ...         ...     ...  \n",
       "1095  Nvidia GeForce GTX 950M  Windows 10   2.4kg  \n",
       "1130    Intel HD Graphics 620  Windows 10  2.04kg  \n",
       "1294       AMD Radeon R7 M440  Windows 10  2.04kg  \n",
       "860     Intel HD Graphics 620  Windows 10   2.3kg  \n",
       "1126    Intel HD Graphics 400  Windows 10  0.69kg  \n",
       "\n",
       "[873 rows x 10 columns]"
      ]
     },
     "execution_count": 21,
     "metadata": {},
     "output_type": "execute_result"
    }
   ],
   "source": [
    "from sklearn.model_selection import train_test_split\n",
    "X_train,X_test ,Y_train,y_test = train_test_split(X,Y,test_size=0.33,random_state =42)\n",
    "X_train"
   ]
  },
  {
   "cell_type": "code",
   "execution_count": null,
   "metadata": {},
   "outputs": [],
   "source": [
    "df['ScreenResolution'].unique()"
   ]
  },
  {
   "cell_type": "code",
   "execution_count": null,
   "metadata": {},
   "outputs": [],
   "source": [
    "for col_name in df.columns:\n",
    "    print(f'{col_name} --> {len(df[col_name].unique())}')"
   ]
  },
  {
   "cell_type": "code",
   "execution_count": null,
   "metadata": {},
   "outputs": [],
   "source": [
    "df['Memory'].unique()"
   ]
  },
  {
   "cell_type": "code",
   "execution_count": null,
   "metadata": {},
   "outputs": [],
   "source": [
    "df['Memory'] = df['Memory'].str.replace('Flash Storage', 'SSD')"
   ]
  },
  {
   "cell_type": "code",
   "execution_count": null,
   "metadata": {},
   "outputs": [],
   "source": [
    "df['Memory'].unique()"
   ]
  },
  {
   "cell_type": "code",
   "execution_count": null,
   "metadata": {},
   "outputs": [],
   "source": [
    "memory_order = [\n",
    "    '32GB HDD',\n",
    "    '128GB HDD',\n",
    "    '500GB HDD',\n",
    "    '1.0TB HDD',\n",
    "    '1TB HDD',\n",
    "    '2TB HDD',\n",
    "    '1TB HDD +  1TB HDD',\n",
    "    '508GB Hybrid',\n",
    "    '1.0TB Hybrid',\n",
    "    '8GB SSD',\n",
    "    '16GB SSD',\n",
    "    '32GB SSD',\n",
    "    '64GB SSD',\n",
    "    '128GB SSD',\n",
    "    '180GB SSD',\n",
    "    '240GB SSD',\n",
    "    '256GB SSD',\n",
    "    '512GB SSD',\n",
    "    '1TB SSD',\n",
    "    '64GB SSD +  1TB HDD',\n",
    "    '256GB SSD +  500GB HDD',\n",
    "    '128GB SSD +  1TB HDD',\n",
    "    '128GB SSD +  2TB HDD',\n",
    "    '256GB SSD +  1TB HDD',\n",
    "    '256GB SSD +  2TB HDD',\n",
    "    '512GB SSD +  1TB HDD',\n",
    "    '1TB SSD +  1TB HDD',\n",
    "    '256GB SSD +  1.0TB Hybrid',\n",
    "    '512GB SSD +  1.0TB Hybrid',\n",
    "    '512GB SSD +  2TB HDD',\n",
    "    '256GB SSD +  256GB SSD',\n",
    "    '512GB SSD +  256GB SSD',\n",
    "    '512GB SSD +  512GB SSD'\n",
    "]"
   ]
  },
  {
   "cell_type": "code",
   "execution_count": null,
   "metadata": {},
   "outputs": [],
   "source": [
    "df['Ram'].unique()"
   ]
  },
  {
   "cell_type": "code",
   "execution_count": null,
   "metadata": {},
   "outputs": [],
   "source": [
    "ram_order = ['2GB', '4GB', '6GB', '8GB', '12GB', '16GB', '24GB', '32GB','64GB']"
   ]
  },
  {
   "cell_type": "code",
   "execution_count": null,
   "metadata": {},
   "outputs": [],
   "source": [
    "df['Cpu'].unique()"
   ]
  },
  {
   "cell_type": "code",
   "execution_count": null,
   "metadata": {},
   "outputs": [],
   "source": [
    "cpu_order = ['Intel Celeron Dual Core N3350 1.1GHz','Intel Celeron Dual Core N3350 2GHz', 'Intel Celeron Dual Core N3060 1.6GHz', 'Intel Atom x5-Z8300 1.44GHz', 'Intel Atom x5-Z8350 1.44GHz', 'Intel Atom Z8350 1.92GHz', 'AMD E-Series E2-9000e 1.5GHz', 'AMD E-Series 7110 1.8GHz', 'AMD E-Series E2-6110 1.5GHz', 'AMD A4-Series 7210 2.2GHz', 'Intel Pentium Quad Core N3700 1.6GHz', 'Intel Pentium Dual Core N4200 1.1GHz', 'Intel Pentium Dual Core 4405U 2.1GHz', 'Intel Core M M3-6Y30 0.9GHz', 'Intel Core M M7-6Y75 1.2GHz', 'Intel Core M m3-7Y30 2.2GHz', 'Intel Core M m7-6Y75 1.2GHz', 'Intel Core M 7Y30 1.0GHz', 'Intel Core M 6Y54 1.1GHz', 'Intel Core M 6Y75 1.2GHz', 'Intel Core M 1.2GHz', 'Intel Core M 1.1GHz', 'Intel Celeron Quad Core N3160 1.6GHz', 'Intel Celeron Quad Core N3450 1.1GHz', 'Intel Core i3 6006U 2GHz', 'Intel Core i3 6006U 2.2GHz', 'Intel Core i3 6100U 2.3GHz', 'Intel Core i3 6100U 2.1GHz', 'Intel Core i3 7100U 2.4GHz', 'Intel Core i3 7130U 2.7GHz', 'AMD A6-Series 7310 2GHz', 'AMD A6-Series 9220 2.5GHz', 'AMD A6-Series 9220 2.9GHz', 'AMD A10-Series 9620P 2.5GHz', 'AMD A10-Series 9600P 2.4GHz', 'AMD A12-Series 9720P 2.7GHz', 'AMD A12-Series 9720P 3.6GHz', 'AMD FX 8800P 2.1GHz', 'AMD FX 9830P 3GHz', 'AMD A8-Series 7410 2.2GHz', 'Intel Core i5 1.3GHz', 'Intel Core i5 1.6GHz', 'Intel Core i5 6200U 2.3GHz', 'Intel Core i5 6300HQ 2.3GHz', 'Intel Core i5 6440HQ 2.6GHz', 'Intel Core i5 7300HQ 2.5GHz', 'Intel Core i5 7300U 2.6GHz', 'Intel Core i5 7200U 2.5GHz', 'Intel Core i5 7200U 2.7GHz', 'Intel Core i5 7440HQ 2.8GHz', 'Intel Core i5 7500U 2.7GHz', 'Intel Core i7 7Y75 1.3GHz', 'Intel Core i7 6500U 2.5GHz', 'Intel Core i7 7500U 2.7GHz', 'Intel Core i7 7700HQ 2.7GHz', 'Intel Core i7 6700HQ 2.6GHz', 'Intel Core i7 6820HK 2.7GHz', 'Intel Core i7 6820HQ 2.7GHz', 'Intel Core i7 7600U 2.8GHz', 'Intel Core i7 7660U 2.5GHz', 'Intel Core i7 7820HK 2.9GHz', 'Intel Core i7 7820HQ 2.9GHz', 'Intel Core i7 8650U 1.9GHz', 'Intel Core i7 8550U 1.8GHz', 'Intel Core i7 6560U 2.2GHz', 'Intel Xeon E3-1535M v6 3.1GHz', 'Intel Xeon E3-1505M V6 3GHz', 'Intel Xeon E3-1535M v5 2.9GHz', 'AMD Ryzen 1600 3.2GHz', 'AMD Ryzen 1700 3GHz', 'Samsung Cortex A72&A53 2.0GHz', 'Intel Core i7 6920HQ 2.9GHz','Intel Celeron Dual Core N3350 2GHz', 'Intel Core i5 3.1GHz', 'Intel Core i5 7200U 2.70GHz', 'AMD A12-Series 9700P 2.5GHz', 'Intel Core i7 7700HQ 2.8GHz', 'Intel Pentium Dual Core 4405Y 1.5GHz', 'AMD E-Series E2-9000 2.2GHz', 'Intel Core i5 7Y57 1.2GHz', 'Intel Core i7 2.7GHz', 'Intel Core i3 6006U 2.0GHz', 'AMD A9-Series 9410 2.9GHz', 'Intel Celeron Quad Core N3710 1.6GHz', 'Intel Celeron Dual Core 3855U 1.6GHz', 'Intel Core i5 7200U 2.50GHz', 'Intel Core M m3 1.2GHz', 'Intel Celeron Dual Core N3050 1.6GHz', 'Intel Core i5 6300U 2.4GHz', 'Intel Atom x5-Z8550 1.44GHz', 'Intel Core i5 2.3GHz', 'AMD E-Series 9000 2.2GHz', 'Intel Core i5 8250U 1.6GHz', 'Intel Pentium Quad Core N3710 1.6GHz', 'Intel Core i5 1.8GHz', 'AMD A9-Series 9420 3GHz', 'Intel Core i7 6500U 2.50GHz', 'AMD A9-Series 9420 2.9GHz', 'Intel Core i5 7Y54 1.2GHz', 'AMD A10-Series A10-9620P 2.5GHz', 'Intel Core M 6Y30 0.9GHz', 'Intel Core i7 7500U 2.5GHz', 'AMD A9-Series A9-9420 3GHz', 'Intel Core i7 6600U 2.6GHz', 'Intel Core i5 6260U 1.8GHz', 'Intel Core i7 2.9GHz', 'AMD A6-Series A6-9220 2.5GHz', 'Intel Celeron Dual Core N3350 2.0GHz', 'Intel Celeron Dual Core 3205U 1.5GHz', 'Intel Atom X5-Z8350 1.44GHz', 'Intel Core i7 2.2GHz', 'AMD E-Series 6110 1.5GHz', 'Intel Celeron Dual Core N3060 1.60GHz', 'Intel Pentium Quad Core N4200 1.1GHz', 'Intel Core i7 2.8GHz', 'Intel Core i5 2.9GHz', 'AMD E-Series 9000e 1.5GHz', 'Intel Core i5 2.0GHz', 'Intel Core i7 7560U 2.4GHz']"
   ]
  },
  {
   "cell_type": "code",
   "execution_count": null,
   "metadata": {},
   "outputs": [],
   "source": [
    "df[\"Gpu\"].unique()"
   ]
  },
  {
   "cell_type": "code",
   "execution_count": null,
   "metadata": {},
   "outputs": [],
   "source": [
    "df.columns\n",
    "df['Memory']"
   ]
  },
  {
   "cell_type": "code",
   "execution_count": null,
   "metadata": {},
   "outputs": [],
   "source": [
    "from sklearn.preprocessing import OrdinalEncoder\n",
    "columns_to_encode = {\"Ram\":ram_order,\"Memory\":memory_order}\n",
    "for category , order in columns_to_encode.items():\n",
    "    encoder = OrdinalEncoder(categories=[order])\n",
    "    X_train[category] = encoder.fit_transform(X_train[[category]])\n",
    "    X_test[category] = encoder.transform(X_test[[category]])"
   ]
  },
  {
   "cell_type": "code",
   "execution_count": null,
   "metadata": {},
   "outputs": [],
   "source": [
    "from sklearn.preprocessing import LabelEncoder\n",
    "label_encoder = LabelEncoder()\n",
    "columns_to_encode = ['Gpu', 'ScreenResolution', 'Inches','Cpu']\n",
    "X_train[columns_to_encode] = X_train[columns_to_encode].apply(label_encoder.fit_transform)\n",
    "X_test[columns_to_encode] = X_test[columns_to_encode].apply(label_encoder.transform)\n"
   ]
  },
  {
   "cell_type": "code",
   "execution_count": 30,
   "metadata": {},
   "outputs": [
    {
     "data": {
      "text/plain": [
       "Index(['Inches', 'ScreenResolution', 'Cpu', 'Ram', 'Memory', 'Gpu', 'Weight',\n",
       "       'Price', 'Company_Apple', 'Company_Asus', 'Company_Chuwi',\n",
       "       'Company_Dell', 'Company_Fujitsu', 'Company_Google', 'Company_HP',\n",
       "       'Company_Huawei', 'Company_LG', 'Company_Lenovo', 'Company_MSI',\n",
       "       'Company_Mediacom', 'Company_Microsoft', 'Company_Razer',\n",
       "       'Company_Samsung', 'Company_Toshiba', 'Company_Vero', 'Company_Xiaomi',\n",
       "       'TypeName_Gaming', 'TypeName_Netbook', 'TypeName_Notebook',\n",
       "       'TypeName_Ultrabook', 'TypeName_Workstation', 'OpSys_Chrome OS',\n",
       "       'OpSys_Linux', 'OpSys_Mac OS X', 'OpSys_No OS', 'OpSys_Windows 10',\n",
       "       'OpSys_Windows 10 S', 'OpSys_Windows 7', 'OpSys_macOS'],\n",
       "      dtype='object')"
      ]
     },
     "execution_count": 30,
     "metadata": {},
     "output_type": "execute_result"
    }
   ],
   "source": [
    "# df['Company'].unique()\n",
    "# df.columns"
   ]
  },
  {
   "cell_type": "code",
   "execution_count": 27,
   "metadata": {},
   "outputs": [],
   "source": [
    "from sklearn.preprocessing import OneHotEncoder\n",
    "import pandas as pd\n",
    "columns_to_encode = ['Company', 'OpSys','TypeName']\n",
    "onehot_encoder = OneHotEncoder(sparse_output=False, drop='first')\n",
    "encoded_train = onehot_encoder.fit_transform(X_train[columns_to_encode])\n",
    "encoded_train_df = pd.DataFrame(encoded_train, columns=onehot_encoder.get_feature_names_out(columns_to_encode))\n",
    "X_train = pd.concat([X_train.drop(columns_to_encode, axis=1).reset_index(drop=True), encoded_train_df.reset_index(drop=True)], axis=1)\n",
    "encoded_test = onehot_encoder.transform(X_test[columns_to_encode])\n",
    "encoded_test_df = pd.DataFrame(encoded_test, columns=onehot_encoder.get_feature_names_out(columns_to_encode))\n",
    "X_test = pd.concat([X_test.drop(columns_to_encode, axis=1).reset_index(drop=True), encoded_test_df.reset_index(drop=True)], axis=1)"
   ]
  },
  {
   "cell_type": "code",
   "execution_count": null,
   "metadata": {},
   "outputs": [],
   "source": [
    "from sklearn.preprocessing import StandardScaler\n",
    "scaler = StandardScaler()\n",
    "X_train_scaled = scaler.fit_transform(X_train)\n",
    "X_test = scaler.transform(X_test)"
   ]
  },
  {
   "cell_type": "code",
   "execution_count": null,
   "metadata": {},
   "outputs": [],
   "source": []
  },
  {
   "cell_type": "code",
   "execution_count": null,
   "metadata": {},
   "outputs": [],
   "source": []
  },
  {
   "cell_type": "code",
   "execution_count": null,
   "metadata": {},
   "outputs": [],
   "source": []
  },
  {
   "cell_type": "code",
   "execution_count": null,
   "metadata": {},
   "outputs": [],
   "source": [
    "from sklearn.compose import ColumnTransformer"
   ]
  },
  {
   "cell_type": "code",
   "execution_count": null,
   "metadata": {},
   "outputs": [],
   "source": []
  }
 ],
 "metadata": {
  "kernelspec": {
   "display_name": "base",
   "language": "python",
   "name": "python3"
  },
  "language_info": {
   "codemirror_mode": {
    "name": "ipython",
    "version": 3
   },
   "file_extension": ".py",
   "mimetype": "text/x-python",
   "name": "python",
   "nbconvert_exporter": "python",
   "pygments_lexer": "ipython3",
   "version": "3.12.4"
  }
 },
 "nbformat": 4,
 "nbformat_minor": 2
}
