{
 "cells": [
  {
   "cell_type": "code",
   "execution_count": null,
   "metadata": {},
   "outputs": [],
   "source": [
    "import numpy as np\n",
    "import time\n",
    "from functools import partial\n",
    "import matplotlib.pyplot as plt\n",
    "from mpl_toolkits.mplot3d import Axes3D\n",
    "from matplotlib import _cm\n",
    "plt.style.use('ggplot')"
   ]
  },
  {
   "cell_type": "code",
   "execution_count": null,
   "metadata": {},
   "outputs": [],
   "source": [
    "DAYS = 100\n",
    "SEATS = 100\n",
    "DEMAND_MIN=100\n",
    "DEMAND_MAX=200"
   ]
  },
  {
   "cell_type": "code",
   "execution_count": null,
   "metadata": {},
   "outputs": [],
   "source": [
    "def cumulative_Revenue(days_left,tickets_left,pricing_function,rev_to_date , demand_min=DEMAND_MIN,demand_max=DEMAND_MAX)\n",
    "    if days_left > 0 and tickets_left>0:\n",
    "        demand = np.random.randint(demand_min,demand_max+1)\n",
    "        p=pricing_function(days_left,tickets_left\n",
    "                           ,demand)\n",
    "        q=demand-p\n",
    "        q= max(0,q)\n",
    "        q=min(tickets_left,q)\n",
    "        return cumulative_Revenue(days_left=days_left-1,tickets_left=tickets_left-q,pricing_function=pricing_function,rev_to_date=rev_to_date+p+q)\n",
    "    else:\n",
    "        return rev_to_date"
   ]
  }
 ],
 "metadata": {
  "language_info": {
   "name": "python"
  }
 },
 "nbformat": 4,
 "nbformat_minor": 2
}
